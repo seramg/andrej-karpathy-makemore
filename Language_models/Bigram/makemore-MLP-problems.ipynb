{
 "cells": [
  {
   "cell_type": "code",
   "execution_count": 1,
   "metadata": {},
   "outputs": [],
   "source": [
    "import torch\n",
    "import torch.nn.functional as F\n",
    "import matplotlib.pyplot as plt\n",
    "%matplotlib inline"
   ]
  },
  {
   "cell_type": "code",
   "execution_count": 2,
   "metadata": {},
   "outputs": [
    {
     "data": {
      "text/plain": [
       "['emma', 'olivia', 'ava', 'isabella', 'sophia', 'charlotte', 'mia', 'amelia']"
      ]
     },
     "execution_count": 2,
     "metadata": {},
     "output_type": "execute_result"
    }
   ],
   "source": [
    "# read in all words\n",
    "words = open('../../names.txt', 'r').read().splitlines()\n",
    "words[:8]"
   ]
  },
  {
   "cell_type": "code",
   "execution_count": 3,
   "metadata": {},
   "outputs": [
    {
     "data": {
      "text/plain": [
       "32033"
      ]
     },
     "execution_count": 3,
     "metadata": {},
     "output_type": "execute_result"
    }
   ],
   "source": [
    "len(words)"
   ]
  },
  {
   "cell_type": "code",
   "execution_count": 4,
   "metadata": {},
   "outputs": [
    {
     "name": "stdout",
     "output_type": "stream",
     "text": [
      "{1: 'a', 2: 'b', 3: 'c', 4: 'd', 5: 'e', 6: 'f', 7: 'g', 8: 'h', 9: 'i', 10: 'j', 11: 'k', 12: 'l', 13: 'm', 14: 'n', 15: 'o', 16: 'p', 17: 'q', 18: 'r', 19: 's', 20: 't', 21: 'u', 22: 'v', 23: 'w', 24: 'x', 25: 'y', 26: 'z', 0: '.'}\n",
      "27\n"
     ]
    }
   ],
   "source": [
    "# build the vocabulary of characters and mappings to and from integers\n",
    "characters = sorted(list(set(''.join(words))))\n",
    "stoi = {s:i+1 for i,s in enumerate(characters)}\n",
    "stoi['.'] = 0\n",
    "itos = {i:s for s,i in stoi.items()}\n",
    "vocab_size = len(itos)\n",
    "print(itos)\n",
    "print(vocab_size)"
   ]
  },
  {
   "cell_type": "code",
   "execution_count": 5,
   "metadata": {},
   "outputs": [
    {
     "name": "stdout",
     "output_type": "stream",
     "text": [
      "torch.Size([182625, 3]) torch.Size([182625])\n",
      "torch.Size([22655, 3]) torch.Size([22655])\n",
      "torch.Size([22866, 3]) torch.Size([22866])\n"
     ]
    }
   ],
   "source": [
    "# build the dataset\n",
    "block_size = 3\n",
    "\n",
    "def build_dataset(words):\n",
    "    X,Y = [], []\n",
    "\n",
    "    for w in words:\n",
    "        context = [0] * block_size\n",
    "        \n",
    "        for ch in w + '.':\n",
    "            index = stoi[ch]\n",
    "            X.append(context)\n",
    "            Y.append(index)\n",
    "            context = context[1:] + [index]\n",
    "\n",
    "    X  = torch.tensor(X)\n",
    "    Y = torch.tensor(Y)\n",
    "    print(X.shape, Y.shape) # examples made from words\n",
    "    return X, Y\n",
    "\n",
    "import random\n",
    "random.seed(42)\n",
    "random.shuffle(words)\n",
    "n1 = int(0.8 * len(words)) # 80% of dataset \n",
    "n2 = int(0.9 * len(words)) # 90% of dataset\n",
    "\n",
    "Xtr, Ytr = build_dataset(words[:n1]) # 0 to 80%\n",
    "Xdev, Ydev = build_dataset(words[n1:n2]) # 80% to 90% = 10%\n",
    "Xte, Yte = build_dataset(words[n2:]) # 90% to 100% = 10%"
   ]
  },
  {
   "cell_type": "code",
   "execution_count": 6,
   "metadata": {},
   "outputs": [
    {
     "name": "stdout",
     "output_type": "stream",
     "text": [
      "11897\n"
     ]
    }
   ],
   "source": [
    "# MLP revisited\n",
    "n_embd = 10\n",
    "n_hidden =200\n",
    "\n",
    "g = torch.Generator().manual_seed(2147483647)\n",
    "C = torch.randn((vocab_size,n_embd), generator=g)\n",
    "W1 = torch.randn((n_embd * block_size,n_hidden), generator=g)\n",
    "b1 = torch.randn((n_hidden), generator=g)\n",
    "W2 = torch.randn((n_hidden,vocab_size), generator=g)\n",
    "b2 = torch.randn(vocab_size, generator=g) \n",
    "\n",
    "# taking the same set of parameters\n",
    "parameters = [C, W1, b1, W2, b2]\n",
    "print(sum(p.nelement() for p in parameters))\n",
    "\n",
    "for p in parameters:\n",
    "    p.requires_grad = True"
   ]
  },
  {
   "cell_type": "code",
   "execution_count": 7,
   "metadata": {},
   "outputs": [
    {
     "name": "stdout",
     "output_type": "stream",
     "text": [
      "      0/ 200000:27.881733\n"
     ]
    },
    {
     "name": "stdout",
     "output_type": "stream",
     "text": [
      "  10000/ 200000:2.969217\n",
      "  20000/ 200000:2.538102\n",
      "  30000/ 200000:2.840773\n",
      "  40000/ 200000:2.027658\n",
      "  50000/ 200000:2.459033\n",
      "  60000/ 200000:2.494352\n",
      "  70000/ 200000:2.133847\n",
      "  80000/ 200000:2.402956\n",
      "  90000/ 200000:2.350247\n",
      " 100000/ 200000:2.044674\n",
      " 110000/ 200000:2.392169\n",
      " 120000/ 200000:1.916288\n",
      " 130000/ 200000:2.349328\n",
      " 140000/ 200000:2.270954\n",
      " 150000/ 200000:2.167137\n",
      " 160000/ 200000:2.076604\n",
      " 170000/ 200000:1.811191\n",
      " 180000/ 200000:2.016870\n",
      " 190000/ 200000:1.881849\n"
     ]
    }
   ],
   "source": [
    "max_steps = 200000\n",
    "batch_size = 32\n",
    "lossi = []\n",
    "\n",
    "for i in range(max_steps):\n",
    "    \n",
    "    # minibatch construct\n",
    "    index = torch.randint(0, Xtr.shape[0], (batch_size,),generator=g)\n",
    "    Xb, Yb = Xtr[index], Ytr[index]\n",
    "    \n",
    "    # forward pass\n",
    "    embedding = C[Xb] # index into those rows in the dataset therefore causing the embeedings to be of shape [32,3,2] instead of [228146,3,2]\n",
    "    embcat = embedding.view(embedding.shape[0],-1)\n",
    "    hidden_layer_preactivation = embcat @ W1 + b1\n",
    "    hidden_layer = torch.tanh(hidden_layer_preactivation)\n",
    "    logits = hidden_layer @ W2 + b2\n",
    "    loss = F.cross_entropy(logits, Yb) # each minibatch for each Y\n",
    "    \n",
    "    #backward pass\n",
    "    for p in parameters:\n",
    "        p.grad = None\n",
    "    \n",
    "    loss.backward()\n",
    "    \n",
    "    #update\n",
    "    lr = 0.1 if i < 100000 else 0.01\n",
    "    for p in parameters:\n",
    "        p.data += -lr * p.grad\n",
    "        \n",
    "    if i % 10000 == 0:\n",
    "        print(f'{i:7d}/{max_steps:7d}:{loss.item():4f}')\n",
    "    lossi.append(loss.log10().item())"
   ]
  },
  {
   "cell_type": "code",
   "execution_count": 8,
   "metadata": {},
   "outputs": [
    {
     "data": {
      "text/plain": [
       "[<matplotlib.lines.Line2D at 0x7981b05a3700>]"
      ]
     },
     "execution_count": 8,
     "metadata": {},
     "output_type": "execute_result"
    },
    {
     "data": {
      "image/png": "[encoded data removed]",
      "text/plain": [
       "<Figure size 640x480 with 1 Axes>"
      ]
     },
     "metadata": {},
     "output_type": "display_data"
    }
   ],
   "source": [
    "plt.plot(lossi)"
   ]
  },
  {
   "cell_type": "code",
   "execution_count": 9,
   "metadata": {},
   "outputs": [
    {
     "name": "stdout",
     "output_type": "stream",
     "text": [
      "train 2.124457836151123\n",
      "val 2.1642823219299316\n"
     ]
    }
   ],
   "source": [
    "@torch.no_grad() # disables gradient tracking. implicitly advising not to keep track of the grad under the hood since we wont be anyway backtracking this.\n",
    "def split_loss(split):\n",
    "    x, y = {\n",
    "        'train': (Xtr, Ytr),\n",
    "        'val': (Xdev, Ydev),\n",
    "        'test': (Xte, Yte)\n",
    "    }[split]\n",
    "    \n",
    "    embedding = C[x]\n",
    "    embeddingCat = embedding.view(embedding.shape[0], -1)  # concat to (N, block_size * n_emb)\n",
    "    h = torch.tanh(embeddingCat @ W1 + b1)  # Matrix multiplication instead of element-wise\n",
    "    logits = h @ W2 + b2\n",
    "    loss = F.cross_entropy(logits, y)\n",
    "    print(split, loss.item())\n",
    "\n",
    "split_loss('train')\n",
    "split_loss('val')\n"
   ]
  },
  {
   "cell_type": "code",
   "execution_count": 10,
   "metadata": {},
   "outputs": [
    {
     "name": "stdout",
     "output_type": "stream",
     "text": [
      "junide.\n",
      "jayceah.\n",
      "presay.\n",
      "adin.\n",
      "koi.\n",
      "roto.\n",
      "sabe.\n",
      "tee.\n",
      "kalinaa.\n",
      "zamilena.\n",
      "jededailewintlessiyanayla.\n",
      "terinleem.\n",
      "kyn.\n",
      "demmerchinsleigh.\n",
      "ani.\n",
      "core.\n",
      "yarion.\n",
      "kaelandreed.\n",
      "moilmayniquan.\n",
      "asnossiia.\n"
     ]
    }
   ],
   "source": [
    "g = torch.Generator().manual_seed(2147483647)\n",
    "\n",
    "for _ in range(20):\n",
    "    out = []\n",
    "    context = [0] * block_size  # initialize with all zeros\n",
    "    while True:\n",
    "        emb = C[torch.tensor([context])]  # (1,block_size,d)    \n",
    "        h = torch.tanh(emb.view(1, -1) @ W1 + b1)\n",
    "        logits = h @ W2 + b2\n",
    "        probs = F.softmax(logits, dim=1)\n",
    "        # sample from the distribution\n",
    "        ix = torch.multinomial(probs, num_samples=1, generator=g).item()\n",
    "        # shift the context window and track the samples\n",
    "        context = context[1:] + [ix]\n",
    "        out.append(ix)\n",
    "        # break onn sampling the special character ' . '\n",
    "        if ix == 0:\n",
    "            break\n",
    "    print(''.join(itos[i] for i in out))\n"
   ]
  },
  {
   "cell_type": "markdown",
   "metadata": {},
   "source": [
    "Scrutinizing the initialisation. \n",
    "\n",
    "It is improperly configured. \n",
    "When we look at the initial loss value we see: <br>\n",
    "<pre>     0/ 200000 : 27.881733 <br></pre>\n",
    "which is a very big value and then we suddenly see a rapid dip to 2. something which is not right. <br>\n",
    "\n",
    "At initialisation, we have 27 characters that could come for anyone training example and at that time we do not have any such reason to believe any character is highly likely than others so we would expect any probability distribution that would come out initially will be a uniform distribution assigning equal probability for all the 27 characters.\n",
    "\n",
    "So the probability we would be expecting for each one of these characters is 1/27.0 and the loss is ```- torch.tensor(1/27.0).log()```"
   ]
  },
  {
   "cell_type": "code",
   "execution_count": 11,
   "metadata": {},
   "outputs": [
    {
     "data": {
      "text/plain": [
       "tensor(3.2958)"
      ]
     },
     "execution_count": 11,
     "metadata": {},
     "output_type": "execute_result"
    }
   ],
   "source": [
    "- torch.tensor(1/27.0).log()"
   ]
  },
  {
   "cell_type": "markdown",
   "metadata": {},
   "source": [
    "We got the earlier <pre>27.881733</pre> because the whole network is really confused, its confident about some characters while not confident about others and the network because confidently wrong causing it to record a very high loss."
   ]
  },
  {
   "cell_type": "code",
   "execution_count": 12,
   "metadata": {},
   "outputs": [
    {
     "data": {
      "text/plain": [
       "(tensor([0.2500, 0.2500, 0.2500, 0.2500]), tensor(1.3863))"
      ]
     },
     "execution_count": 12,
     "metadata": {},
     "output_type": "execute_result"
    }
   ],
   "source": [
    "# 4 dimensional example of the issue\n",
    "# we have only 4 characters\n",
    "logits = torch.tensor([0.0,0.0,0.0,0.0]) # these come out of neural network nd they r very close to 0\n",
    "probs = torch.softmax(logits, dim=0)# on taking the softmax of 0's, we get probabiltiies which are diffuse distribution\n",
    "# the above values(probs) sums to 1 and exactly uniform\n",
    "loss = -probs[2].log() # manipulating logits we could change the loss\n",
    "probs, loss"
   ]
  },
  {
   "cell_type": "markdown",
   "metadata": {},
   "source": [
    "If we change the logits value of [2] to something like 2 or 5. It could be like we are locking out and by chance this could be a very high number like this nd then we would record a very high loss because we are assigning the correct probability at the initialisation by chance to the correct label"
   ]
  },
  {
   "cell_type": "code",
   "execution_count": 13,
   "metadata": {},
   "outputs": [
    {
     "data": {
      "text/plain": [
       "(tensor([0.0066, 0.0066, 0.9802, 0.0066]), tensor(0.0200))"
      ]
     },
     "execution_count": 13,
     "metadata": {},
     "output_type": "execute_result"
    }
   ],
   "source": [
    "logits = torch.tensor([0.0,0.0,5.0,0.0]) \n",
    "probs = torch.softmax(logits, dim=0)\n",
    "loss = -probs[2].log()\n",
    "probs, loss"
   ]
  },
  {
   "cell_type": "markdown",
   "metadata": {},
   "source": [
    "If we change the logits value of [1] instead of [2] to something like 2 or 5 then we will see that it will be recording a much higher, extreme loss"
   ]
  },
  {
   "cell_type": "code",
   "execution_count": 14,
   "metadata": {},
   "outputs": [
    {
     "data": {
      "text/plain": [
       "(tensor([0.0066, 0.9802, 0.0066, 0.0066]), tensor(5.0200))"
      ]
     },
     "execution_count": 14,
     "metadata": {},
     "output_type": "execute_result"
    }
   ],
   "source": [
    "logits = torch.tensor([0.0,5.0,0.0,0.0]) \n",
    "probs = torch.softmax(logits, dim=0)\n",
    "loss = -probs[2].log()\n",
    "probs, loss"
   ]
  },
  {
   "cell_type": "code",
   "execution_count": 15,
   "metadata": {},
   "outputs": [
    {
     "data": {
      "text/plain": [
       "(tensor([ 0.1717,  0.6351, -1.0602,  0.2569]),\n",
       " tensor([0.2519, 0.4004, 0.0735, 0.2743]),\n",
       " tensor(2.6107))"
      ]
     },
     "execution_count": 15,
     "metadata": {},
     "output_type": "execute_result"
    }
   ],
   "source": [
    "logits = torch.randn(4) # normally distributed values\n",
    "probs = torch.softmax(logits, dim=0)\n",
    "loss = -probs[2].log()\n",
    "logits, probs, loss"
   ]
  },
  {
   "cell_type": "markdown",
   "metadata": {},
   "source": [
    "Since most of the values that come out of logits are near 0, the loss came out is ok"
   ]
  },
  {
   "cell_type": "code",
   "execution_count": 16,
   "metadata": {},
   "outputs": [
    {
     "data": {
      "text/plain": [
       "(tensor([ 4.5259,  7.3689,  8.6339, -3.6535]),\n",
       " tensor([1.2660e-02, 2.1733e-01, 7.7001e-01, 3.5494e-06]),\n",
       " tensor(0.2614))"
      ]
     },
     "execution_count": 16,
     "metadata": {},
     "output_type": "execute_result"
    }
   ],
   "source": [
    "logits = torch.randn(4)*10\n",
    "probs = torch.softmax(logits, dim=0)\n",
    "loss = -probs[2].log()\n",
    "logits, probs, loss"
   ]
  },
  {
   "cell_type": "markdown",
   "metadata": {},
   "source": [
    "But for these more extreme values, its very unlikely to get the correct bucket."
   ]
  },
  {
   "cell_type": "markdown",
   "metadata": {},
   "source": [
    "But this doesn't mean the logits have to be 0 all the time, it could be equal and produce the same effect. This is because we need a uniform distribution. Because of the normalisation inside softmax, it will actually come out ok."
   ]
  },
  {
   "cell_type": "code",
   "execution_count": 17,
   "metadata": {},
   "outputs": [
    {
     "data": {
      "text/plain": [
       "(tensor([1., 1., 1., 1.]),\n",
       " tensor([0.2500, 0.2500, 0.2500, 0.2500]),\n",
       " tensor(1.3863))"
      ]
     },
     "execution_count": 17,
     "metadata": {},
     "output_type": "execute_result"
    }
   ],
   "source": [
    "logits = torch.tensor([1.0,1.0,1.0,1.0]) \n",
    "probs = torch.softmax(logits, dim=0)\n",
    "loss = -probs[2].log()\n",
    "logits, probs, loss"
   ]
  },
  {
   "cell_type": "markdown",
   "metadata": {},
   "source": [
    "So step1 is to understand where all this went wrong"
   ]
  },
  {
   "cell_type": "code",
   "execution_count": 18,
   "metadata": {},
   "outputs": [
    {
     "name": "stdout",
     "output_type": "stream",
     "text": [
      "      0/ 200000:2.371111\n"
     ]
    }
   ],
   "source": [
    "max_steps = 200000\n",
    "batch_size = 32\n",
    "lossi = []\n",
    "\n",
    "for i in range(max_steps):\n",
    "    \n",
    "    # minibatch construct\n",
    "    index = torch.randint(0, Xtr.shape[0], (batch_size,),generator=g)\n",
    "    Xb, Yb = Xtr[index], Ytr[index]\n",
    "    \n",
    "    # forward pass\n",
    "    embedding = C[Xb] # index into those rows in the dataset therefore causing the embeedings to be of shape [32,3,2] instead of [228146,3,2]\n",
    "    embcat = embedding.view(embedding.shape[0],-1)\n",
    "    hidden_layer_preactivation = embcat @ W1 + b1\n",
    "    hidden_layer = torch.tanh(hidden_layer_preactivation)\n",
    "    logits = hidden_layer @ W2 + b2\n",
    "    loss = F.cross_entropy(logits, Yb) # each minibatch for each Y\n",
    "    \n",
    "    #backward pass\n",
    "    for p in parameters:\n",
    "        p.grad = None\n",
    "    \n",
    "    loss.backward()\n",
    "    \n",
    "    #update\n",
    "    lr = 0.1 if i < 100000 else 0.01\n",
    "    for p in parameters:\n",
    "        p.data += -lr * p.grad\n",
    "        \n",
    "    if i % 10000 == 0:\n",
    "        print(f'{i:7d}/{max_steps:7d}:{loss.item():4f}')\n",
    "    lossi.append(loss.log10().item())\n",
    "    break # breaking after the first step"
   ]
  },
  {
   "cell_type": "code",
   "execution_count": 19,
   "metadata": {},
   "outputs": [
    {
     "data": {
      "text/plain": [
       "tensor([10.5381,  6.2339,  4.3079,  3.2215,  5.4490,  5.4035,  1.4245,  3.5824,\n",
       "         8.7619,  6.0510,  4.4050,  3.8609,  8.4166,  6.2522,  9.5774,  2.7537,\n",
       "         3.0345,  0.9746,  7.4852,  7.0189,  4.8495,  5.2211,  4.4516,  3.7679,\n",
       "         0.1164,  5.1434,  3.5821], grad_fn=<SelectBackward0>)"
      ]
     },
     "execution_count": 19,
     "metadata": {},
     "output_type": "execute_result"
    }
   ],
   "source": [
    "logits[0]"
   ]
  },
  {
   "cell_type": "markdown",
   "metadata": {},
   "source": [
    "From this, we understand that the logits are extreme values and that creates the fake confidence and incorrect answers and makes the loss get very very high. So we want to have the logits that come out of this net to be more closer to 0"
   ]
  },
  {
   "cell_type": "markdown",
   "metadata": {},
   "source": [
    "### Optimisation by adjusting the weights (scaling down) and setting the bias to 0"
   ]
  },
  {
   "cell_type": "code",
   "execution_count": 20,
   "metadata": {},
   "outputs": [
    {
     "name": "stdout",
     "output_type": "stream",
     "text": [
      "11897\n"
     ]
    }
   ],
   "source": [
    "# MLP revisited\n",
    "n_embd = 10\n",
    "n_hidden =200\n",
    "\n",
    "g = torch.Generator().manual_seed(2147483647)\n",
    "C = torch.randn((vocab_size,n_embd), generator=g)\n",
    "W1 = torch.randn((n_embd * block_size,n_hidden), generator=g)\n",
    "b1 = torch.randn((n_hidden), generator=g)\n",
    "W2 = torch.randn((n_hidden,vocab_size), generator=g) * 0.01 # scaling down thse values from 1 to 0.1 to 0.01\n",
    "b2 = torch.randn(vocab_size, generator=g) * 0 \n",
    "\n",
    "# taking the same set of parameters\n",
    "parameters = [C, W1, b1, W2, b2]\n",
    "print(sum(p.nelement() for p in parameters))\n",
    "\n",
    "for p in parameters:\n",
    "    p.requires_grad = True"
   ]
  },
  {
   "cell_type": "code",
   "execution_count": 21,
   "metadata": {},
   "outputs": [
    {
     "name": "stdout",
     "output_type": "stream",
     "text": [
      "      0/ 200000:3.322059\n"
     ]
    }
   ],
   "source": [
    "max_steps = 200000\n",
    "batch_size = 32\n",
    "lossi = []\n",
    "\n",
    "for i in range(max_steps):\n",
    "    \n",
    "    # minibatch construct\n",
    "    index = torch.randint(0, Xtr.shape[0], (batch_size,),generator=g)\n",
    "    Xb, Yb = Xtr[index], Ytr[index]\n",
    "    \n",
    "    # forward pass\n",
    "    embedding = C[Xb] # index into those rows in the dataset therefore causing the embeedings to be of shape [32,3,2] instead of [228146,3,2]\n",
    "    embcat = embedding.view(embedding.shape[0],-1)\n",
    "    hidden_layer_preactivation = embcat @ W1 + b1\n",
    "    hidden_layer = torch.tanh(hidden_layer_preactivation)\n",
    "    logits = hidden_layer @ W2 + b2\n",
    "    loss = F.cross_entropy(logits, Yb) # each minibatch for each Y\n",
    "    \n",
    "    #backward pass\n",
    "    for p in parameters:\n",
    "        p.grad = None\n",
    "    \n",
    "    loss.backward()\n",
    "    \n",
    "    #update\n",
    "    lr = 0.1 if i < 100000 else 0.01\n",
    "    for p in parameters:\n",
    "        p.data += -lr * p.grad\n",
    "        \n",
    "    if i % 10000 == 0:\n",
    "        print(f'{i:7d}/{max_steps:7d}:{loss.item():4f}')\n",
    "    lossi.append(loss.log10().item())\n",
    "    break # breaking after the first step"
   ]
  },
  {
   "cell_type": "code",
   "execution_count": 22,
   "metadata": {},
   "outputs": [
    {
     "data": {
      "text/plain": [
       "tensor([-0.0249,  0.3523, -0.1267,  0.0541,  0.1662, -0.1171, -0.0140,  0.0124,\n",
       "         0.0921,  0.1135,  0.1362, -0.0925,  0.0444, -0.2459, -0.0971,  0.0125,\n",
       "        -0.0957, -0.1376, -0.2329, -0.0137,  0.2452,  0.1616,  0.1665, -0.1094,\n",
       "        -0.2154,  0.0725,  0.1141], grad_fn=<SelectBackward0>)"
      ]
     },
     "execution_count": 22,
     "metadata": {},
     "output_type": "execute_result"
    }
   ],
   "source": [
    "logits[0]"
   ]
  },
  {
   "cell_type": "markdown",
   "metadata": {},
   "source": [
    "logits are also closed to 0. We are growing much closer to what we expect (1/27.0 = 3.29)\n",
    "\n",
    "if W2 = _ * 0.1 then we get 4.23 <br>\n",
    "if it was * 0.01 then we get 3.32\n",
    "\n",
    "If we * 0 to W2 , it would give the exact value and it might be right in case of this output layer, but it may cause some problems in some situations. This is given for a symmetry breaking."
   ]
  },
  {
   "cell_type": "code",
   "execution_count": 23,
   "metadata": {},
   "outputs": [
    {
     "name": "stdout",
     "output_type": "stream",
     "text": [
      "      0/ 200000:3.185710\n",
      "  10000/ 200000:1.869976\n",
      "  20000/ 200000:1.925167\n",
      "  30000/ 200000:2.056973\n",
      "  40000/ 200000:2.207332\n",
      "  50000/ 200000:2.132500\n",
      "  60000/ 200000:2.153293\n",
      "  70000/ 200000:2.802884\n",
      "  80000/ 200000:2.654410\n",
      "  90000/ 200000:2.293141\n",
      " 100000/ 200000:2.281344\n",
      " 110000/ 200000:1.862925\n",
      " 120000/ 200000:2.169475\n",
      " 130000/ 200000:1.969287\n",
      " 140000/ 200000:1.804307\n",
      " 150000/ 200000:2.448285\n",
      " 160000/ 200000:2.223784\n",
      " 170000/ 200000:1.778775\n",
      " 180000/ 200000:1.920709\n",
      " 190000/ 200000:2.160146\n"
     ]
    }
   ],
   "source": [
    "max_steps = 200000\n",
    "batch_size = 32\n",
    "lossi = []\n",
    "\n",
    "for i in range(max_steps):\n",
    "    \n",
    "    # minibatch construct\n",
    "    index = torch.randint(0, Xtr.shape[0], (batch_size,),generator=g)\n",
    "    Xb, Yb = Xtr[index], Ytr[index]\n",
    "    \n",
    "    # forward pass\n",
    "    embedding = C[Xb] # index into those rows in the dataset therefore causing the embeedings to be of shape [32,3,2] instead of [228146,3,2]\n",
    "    embcat = embedding.view(embedding.shape[0],-1)\n",
    "    hidden_layer_preactivation = embcat @ W1 + b1\n",
    "    hidden_layer = torch.tanh(hidden_layer_preactivation)\n",
    "    logits = hidden_layer @ W2 + b2\n",
    "    loss = F.cross_entropy(logits, Yb) # each minibatch for each Y\n",
    "    \n",
    "    #backward pass\n",
    "    for p in parameters:\n",
    "        p.grad = None\n",
    "    \n",
    "    loss.backward()\n",
    "    \n",
    "    #update\n",
    "    lr = 0.1 if i < 100000 else 0.01\n",
    "    for p in parameters:\n",
    "        p.data += -lr * p.grad\n",
    "        \n",
    "    if i % 10000 == 0:\n",
    "        print(f'{i:7d}/{max_steps:7d}:{loss.item():4f}')\n",
    "    lossi.append(loss.log10().item())\n"
   ]
  },
  {
   "cell_type": "code",
   "execution_count": 24,
   "metadata": {},
   "outputs": [
    {
     "data": {
      "text/plain": [
       "[<matplotlib.lines.Line2D at 0x79816e926da0>]"
      ]
     },
     "execution_count": 24,
     "metadata": {},
     "output_type": "execute_result"
    },
    {
     "data": {
      "image/png": "[encoded data removed]",
      "text/plain": [
       "<Figure size 640x480 with 1 Axes>"
      ]
     },
     "metadata": {},
     "output_type": "display_data"
    }
   ],
   "source": [
    "plt.plot(lossi)"
   ]
  },
  {
   "cell_type": "markdown",
   "metadata": {},
   "source": [
    "Plot of the loss doesn't have the hockey shape because in the very first few iterations of the loss during the optimisation is that the optimisation squashes down the logits nd rearranging the logits. So here we took avay the easy part of loss fn where the weights were just shrunk down and therefore we dont get the easy gains at the beginning, but we are getting the hard gains of training the actual neural net"
   ]
  },
  {
   "cell_type": "code",
   "execution_count": 25,
   "metadata": {},
   "outputs": [
    {
     "name": "stdout",
     "output_type": "stream",
     "text": [
      "train 2.0695769786834717\n",
      "val 2.131199836730957\n"
     ]
    }
   ],
   "source": [
    "@torch.no_grad() # disables gradient tracking. implicitly advising not to keep track of the grad under the hood since we wont be anyway backtracking this.\n",
    "def split_loss(split):\n",
    "    x, y = {\n",
    "        'train': (Xtr, Ytr),\n",
    "        'val': (Xdev, Ydev),\n",
    "        'test': (Xte, Yte)\n",
    "    }[split]\n",
    "    \n",
    "    embedding = C[x]\n",
    "    embeddingCat = embedding.view(embedding.shape[0], -1)  # concat to (N, block_size * n_emb)\n",
    "    h = torch.tanh(embeddingCat @ W1 + b1)  # Matrix multiplication instead of element-wise\n",
    "    logits = h @ W2 + b2\n",
    "    loss = F.cross_entropy(logits, y)\n",
    "    print(split, loss.item())\n",
    "\n",
    "split_loss('train')\n",
    "split_loss('val')\n",
    "# loss is improved from 2.16 to 2.13"
   ]
  },
  {
   "cell_type": "code",
   "execution_count": 26,
   "metadata": {},
   "outputs": [
    {
     "name": "stdout",
     "output_type": "stream",
     "text": [
      "junide.\n",
      "jaycand.\n",
      "presayleigh.\n",
      "kai.\n",
      "ronorian.\n",
      "arett.\n",
      "samela.\n",
      "zamilena.\n",
      "jadeyaire.\n",
      "amellseen.\n",
      "evy.\n",
      "artez.\n",
      "aveumahaf.\n",
      "demmerppynsleigh.\n",
      "ann.\n",
      "core.\n",
      "yarion.\n",
      "kaelandreed.\n",
      "mois.\n",
      "wyn.\n"
     ]
    }
   ],
   "source": [
    "g = torch.Generator().manual_seed(2147483647)\n",
    "\n",
    "for _ in range(20):\n",
    "    out = []\n",
    "    context = [0] * block_size  # initialize with all zeros\n",
    "    while True:\n",
    "        emb = C[torch.tensor([context])]  # (1,block_size,d)    \n",
    "        h = torch.tanh(emb.view(1, -1) @ W1 + b1)\n",
    "        logits = h @ W2 + b2\n",
    "        probs = F.softmax(logits, dim=1)\n",
    "        # sample from the distribution\n",
    "        ix = torch.multinomial(probs, num_samples=1, generator=g).item()\n",
    "        # shift the context window and track the samples\n",
    "        context = context[1:] + [ix]\n",
    "        out.append(ix)\n",
    "        # break onn sampling the special character ' . '\n",
    "        if ix == 0:\n",
    "            break\n",
    "    print(''.join(itos[i] for i in out))\n"
   ]
  },
  {
   "cell_type": "markdown",
   "metadata": {},
   "source": [
    "### Fixing the saturated tanh"
   ]
  },
  {
   "cell_type": "code",
   "execution_count": 27,
   "metadata": {},
   "outputs": [
    {
     "name": "stdout",
     "output_type": "stream",
     "text": [
      "11897\n"
     ]
    }
   ],
   "source": [
    "# MLP revisited\n",
    "n_embd = 10\n",
    "n_hidden =200\n",
    "\n",
    "g = torch.Generator().manual_seed(2147483647)\n",
    "C = torch.randn((vocab_size,n_embd), generator=g)\n",
    "W1 = torch.randn((n_embd * block_size,n_hidden), generator=g)\n",
    "b1 = torch.randn((n_hidden), generator=g)\n",
    "W2 = torch.randn((n_hidden,vocab_size), generator=g) * 0.01 # scaling down thse values from 1 to 0.1 to 0.01\n",
    "b2 = torch.randn(vocab_size, generator=g) * 0 \n",
    "\n",
    "# taking the same set of parameters\n",
    "parameters = [C, W1, b1, W2, b2]\n",
    "print(sum(p.nelement() for p in parameters))\n",
    "\n",
    "for p in parameters:\n",
    "    p.requires_grad = True"
   ]
  },
  {
   "cell_type": "code",
   "execution_count": 28,
   "metadata": {},
   "outputs": [
    {
     "name": "stdout",
     "output_type": "stream",
     "text": [
      "      0/ 200000:3.322059\n"
     ]
    }
   ],
   "source": [
    "max_steps = 200000\n",
    "batch_size = 32\n",
    "lossi = []\n",
    "\n",
    "for i in range(max_steps):\n",
    "    \n",
    "    # minibatch construct\n",
    "    index = torch.randint(0, Xtr.shape[0], (batch_size,),generator=g)\n",
    "    Xb, Yb = Xtr[index], Ytr[index]\n",
    "    \n",
    "    # forward pass\n",
    "    embedding = C[Xb] # index into those rows in the dataset therefore causing the embeedings to be of shape [32,3,2] instead of [228146,3,2]\n",
    "    embcat = embedding.view(embedding.shape[0],-1)\n",
    "    hidden_layer_preactivation = embcat @ W1 + b1\n",
    "    hidden_layer = torch.tanh(hidden_layer_preactivation)\n",
    "    logits = hidden_layer @ W2 + b2\n",
    "    loss = F.cross_entropy(logits, Yb) # each minibatch for each Y\n",
    "    \n",
    "    #backward pass\n",
    "    for p in parameters:\n",
    "        p.grad = None\n",
    "    \n",
    "    loss.backward()\n",
    "    \n",
    "    #update\n",
    "    lr = 0.1 if i < 100000 else 0.01\n",
    "    for p in parameters:\n",
    "        p.data += -lr * p.grad\n",
    "        \n",
    "    if i % 10000 == 0:\n",
    "        print(f'{i:7d}/{max_steps:7d}:{loss.item():4f}')\n",
    "    lossi.append(loss.log10().item())\n",
    "    break"
   ]
  },
  {
   "cell_type": "markdown",
   "metadata": {},
   "source": [
    "Activations of the hidden layer has many elements with value 1"
   ]
  },
  {
   "cell_type": "code",
   "execution_count": 29,
   "metadata": {},
   "outputs": [
    {
     "data": {
      "text/plain": [
       "tensor([[ 0.8100, -0.8997, -0.9993,  ..., -0.9097, -1.0000,  1.0000],\n",
       "        [-1.0000, -0.9571, -0.7145,  ...,  0.4898,  0.9090,  0.9937],\n",
       "        [ 0.9983, -0.3340,  1.0000,  ...,  0.9443,  0.9905,  1.0000],\n",
       "        ...,\n",
       "        [-1.0000,  0.9604, -0.1418,  ..., -0.1266,  1.0000,  1.0000],\n",
       "        [-1.0000, -0.4385, -0.8882,  ..., -0.3316,  0.9995,  1.0000],\n",
       "        [-1.0000,  0.9604, -0.1418,  ..., -0.1266,  1.0000,  1.0000]],\n",
       "       grad_fn=<TanhBackward0>)"
      ]
     },
     "execution_count": 29,
     "metadata": {},
     "output_type": "execute_result"
    }
   ],
   "source": [
    "hidden_layer"
   ]
  },
  {
   "cell_type": "markdown",
   "metadata": {},
   "source": [
    "One thing to remember is tanh is a squashing function, it takes arbitrary numbers and it squashes them into a range of -1 and 1 and it does so smoothly"
   ]
  },
  {
   "cell_type": "code",
   "execution_count": 30,
   "metadata": {},
   "outputs": [
    {
     "data": {
      "text/plain": [
       "torch.Size([6400])"
      ]
     },
     "execution_count": 30,
     "metadata": {},
     "output_type": "execute_result"
    }
   ],
   "source": [
    "hidden_layer.view(-1).shape # stretched out into a 1 large vector"
   ]
  },
  {
   "cell_type": "code",
   "execution_count": 31,
   "metadata": {},
   "outputs": [
    {
     "data": {
      "text/plain": [
       "[0.8100222945213318,\n",
       " -0.8996702432632446,\n",
       " -0.999309241771698,\n",
       " 0.9980825185775757,\n",
       " -0.6508485078811646,\n",
       " -0.6897538304328918,\n",
       " -0.9619210362434387,\n",
       " -0.9999876022338867,\n",
       " -0.3420684039592743,\n",
       " 0.999920666217804,\n",
       " 0.9999915957450867,\n",
       " -0.9980642199516296,\n",
       " 0.9876819252967834,\n",
       " 0.8998497128486633,\n",
       " 0.8862370252609253,\n",
       " 0.7360541820526123,\n",
       " -0.9959285855293274,\n",
       " -0.981837809085846,\n",
       " -0.989227294921875,\n",
       " 0.9997955560684204,\n",
       " -0.9220333695411682,\n",
       " -0.8541557192802429,\n",
       " 0.0639711245894432,\n",
       " 0.9999996423721313,\n",
       " 0.9979971051216125,\n",
       " -0.9949458837509155,\n",
       " 0.9996280670166016,\n",
       " -0.9998515844345093,\n",
       " 0.6444535255432129,\n",
       " 0.7554441690444946,\n",
       " -0.9997296929359436,\n",
       " 0.9996114373207092,\n",
       " 0.9912618398666382,\n",
       " 0.9449755549430847,\n",
       " 0.9999983310699463,\n",
       " -0.9999998211860657,\n",
       " 0.9999754428863525,\n",
       " -0.9999991059303284,\n",
       " 1.0,\n",
       " -0.5565183758735657,\n",
       " 0.9787917137145996,\n",
       " -0.9885085225105286,\n",
       " 0.9983248710632324,\n",
       " -0.9999771118164062,\n",
       " -0.03651892766356468,\n",
       " 0.9999677538871765,\n",
       " 0.9990684986114502,\n",
       " -0.7250170707702637,\n",
       " -0.9920523762702942,\n",
       " -0.9998557567596436,\n",
       " -0.9981667995452881,\n",
       " -0.9987424612045288,\n",
       " -0.9999971985816956,\n",
       " -0.9002600908279419,\n",
       " -1.0,\n",
       " 0.936903715133667,\n",
       " -0.8497678637504578,\n",
       " -0.9963060021400452,\n",
       " -0.9943669438362122,\n",
       " -0.9300776720046997,\n",
       " 0.9993545413017273,\n",
       " 0.570277750492096,\n",
       " -0.18814878165721893,\n",
       " -0.9940271377563477,\n",
       " 0.9875222444534302,\n",
       " 0.2400086373090744,\n",
       " 0.9366222023963928,\n",
       " -0.9982050061225891,\n",
       " -0.9999827742576599,\n",
       " 0.997356653213501,\n",
       " 0.997997522354126,\n",
       " 0.884395182132721,\n",
       " -0.32619577646255493,\n",
       " -0.8462291359901428,\n",
       " 0.9521182775497437,\n",
       " 0.986286461353302,\n",
       " 0.9999999403953552,\n",
       " 0.06176936253905296,\n",
       " 0.9887018203735352,\n",
       " 0.9958049058914185,\n",
       " 0.9999606609344482,\n",
       " 0.9997110366821289,\n",
       " -0.9999688863754272,\n",
       " -0.9999934434890747,\n",
       " 0.9999960064888,\n",
       " -0.9999960660934448,\n",
       " 0.9035525321960449,\n",
       " -0.9713432192802429,\n",
       " -0.9945881366729736,\n",
       " -0.7770710587501526,\n",
       " 0.5586827993392944,\n",
       " 0.9999998807907104,\n",
       " -0.999806821346283,\n",
       " 0.9999704360961914,\n",
       " -0.999687910079956,\n",
       " 0.9993345141410828,\n",
       " -0.9997174143791199,\n",
       " -0.9999829530715942,\n",
       " -0.9977675676345825,\n",
       " -0.9999999403953552,\n",
       " -0.9977041482925415,\n",
       " 0.9996653199195862,\n",
       " 0.9783895611763,\n",
       " -0.9999988675117493,\n",
       " -0.9961305260658264,\n",
       " 1.0,\n",
       " 0.9912627935409546,\n",
       " -0.980395495891571,\n",
       " 1.0,\n",
       " -0.999946117401123,\n",
       " 0.9999759793281555,\n",
       " 0.9812180399894714,\n",
       " -0.9996610283851624,\n",
       " 0.9999865293502808,\n",
       " -0.9987479448318481,\n",
       " -1.0,\n",
       " -0.5870453715324402,\n",
       " -0.6761994361877441,\n",
       " 0.8443387746810913,\n",
       " 0.9899460077285767,\n",
       " 0.9999991059303284,\n",
       " 0.9998961687088013,\n",
       " -0.8078445196151733,\n",
       " -0.030112577602267265,\n",
       " -0.9869007468223572,\n",
       " -0.39575108885765076,\n",
       " -1.0,\n",
       " -0.9934996962547302,\n",
       " 0.9999702572822571,\n",
       " 0.6229590773582458,\n",
       " -0.8014499545097351,\n",
       " -0.9999998807907104,\n",
       " -0.9999948143959045,\n",
       " 0.8815972805023193,\n",
       " 0.6985347867012024,\n",
       " 0.9590637683868408,\n",
       " -0.9998769164085388,\n",
       " -0.9998448491096497,\n",
       " 0.9467464089393616,\n",
       " 0.9936731457710266,\n",
       " -0.9963385462760925,\n",
       " -0.9999999403953552,\n",
       " -0.9992644786834717,\n",
       " 0.9999996423721313,\n",
       " -0.8874371647834778,\n",
       " 0.9999810457229614,\n",
       " 0.7788862586021423,\n",
       " 0.9999997615814209,\n",
       " 0.999984085559845,\n",
       " -0.9999938607215881,\n",
       " -0.9998727440834045,\n",
       " 0.9999978542327881,\n",
       " 0.9212281703948975,\n",
       " 0.9990051984786987,\n",
       " -0.02490023523569107,\n",
       " -0.9494706392288208,\n",
       " 0.9998114705085754,\n",
       " -0.2346501350402832,\n",
       " -0.9822018146514893,\n",
       " -0.9989956021308899,\n",
       " 0.9024653434753418,\n",
       " 0.9995178580284119,\n",
       " 0.9997413754463196,\n",
       " 0.9984540939331055,\n",
       " 0.9999995231628418,\n",
       " 0.9999933838844299,\n",
       " 0.9999788999557495,\n",
       " 0.9989426136016846,\n",
       " -0.9533621072769165,\n",
       " -0.9924253821372986,\n",
       " 0.9993343949317932,\n",
       " -0.9999023079872131,\n",
       " -0.999996542930603,\n",
       " 0.9959509372711182,\n",
       " -0.9999775886535645,\n",
       " -0.99789959192276,\n",
       " -0.9301584362983704,\n",
       " 0.9999384880065918,\n",
       " 0.9859923720359802,\n",
       " 0.41335660219192505,\n",
       " 0.9913343787193298,\n",
       " -0.9888933897018433,\n",
       " 1.0,\n",
       " -0.9996615648269653,\n",
       " 0.7882044315338135,\n",
       " -0.8811990022659302,\n",
       " 1.0,\n",
       " 0.4948219358921051,\n",
       " -0.9999998807907104,\n",
       " -0.9999991059303284,\n",
       " 0.9263261556625366,\n",
       " -0.9999998211860657,\n",
       " -0.9975093007087708,\n",
       " -0.9927806258201599,\n",
       " 0.9999793171882629,\n",
       " 0.6177859902381897,\n",
       " -1.0,\n",
       " -0.9096859693527222,\n",
       " -1.0,\n",
       " 0.999999463558197,\n",
       " -1.0,\n",
       " -0.9571480751037598,\n",
       " -0.7144942879676819,\n",
       " 0.6083071231842041,\n",
       " -0.9999923706054688,\n",
       " -0.9999361634254456,\n",
       " 0.992590069770813,\n",
       " -0.2302337884902954,\n",
       " -0.995219886302948,\n",
       " 0.9999175667762756,\n",
       " -0.16357509791851044,\n",
       " -0.9754257202148438,\n",
       " -0.9999455809593201,\n",
       " 0.9999546408653259,\n",
       " -0.9152316451072693,\n",
       " -0.9999316930770874,\n",
       " 0.9998354315757751,\n",
       " -0.9999645948410034,\n",
       " 0.9749691486358643,\n",
       " 0.9999935030937195,\n",
       " -1.0,\n",
       " -0.9999347925186157,\n",
       " -0.23398840427398682,\n",
       " -0.8811324834823608,\n",
       " 0.999308168888092,\n",
       " 0.9999399781227112,\n",
       " 0.8158496022224426,\n",
       " -0.9805248379707336,\n",
       " 0.9999948740005493,\n",
       " 0.09357710182666779,\n",
       " 0.999998152256012,\n",
       " 0.9986162781715393,\n",
       " -0.31729018688201904,\n",
       " -0.999615490436554,\n",
       " 0.9779644012451172,\n",
       " -0.993132472038269,\n",
       " -0.3045630156993866,\n",
       " -0.9999614953994751,\n",
       " 0.46406447887420654,\n",
       " -0.9999939799308777,\n",
       " 0.9684109091758728,\n",
       " -0.6552895307540894,\n",
       " 0.9999061822891235,\n",
       " -0.9693756103515625,\n",
       " -0.9755738377571106,\n",
       " 0.5817576050758362,\n",
       " -0.0019762639421969652,\n",
       " -0.9783424139022827,\n",
       " 0.996645450592041,\n",
       " 0.34755533933639526,\n",
       " -0.8612284660339355,\n",
       " 0.9934705495834351,\n",
       " 0.9292687773704529,\n",
       " 0.27449727058410645,\n",
       " 0.35823187232017517,\n",
       " -0.2502455413341522,\n",
       " -0.4245903491973877,\n",
       " -0.28276774287223816,\n",
       " 0.990460991859436,\n",
       " 0.9999821782112122,\n",
       " 0.9995743036270142,\n",
       " -0.4116074740886688,\n",
       " 0.9996185898780823,\n",
       " -0.9627837538719177,\n",
       " -0.9999964833259583,\n",
       " -0.9961535334587097,\n",
       " 0.9999749660491943,\n",
       " -0.4199199378490448,\n",
       " -0.999995768070221,\n",
       " -0.9082736372947693,\n",
       " 0.9957168698310852,\n",
       " -0.88327556848526,\n",
       " -0.8657534122467041,\n",
       " -0.9999595284461975,\n",
       " -0.9996703863143921,\n",
       " 0.9959312677383423,\n",
       " 0.8767479658126831,\n",
       " -0.9999995231628418,\n",
       " -0.24313990771770477,\n",
       " 0.9900190234184265,\n",
       " 0.9998999238014221,\n",
       " 0.9995512962341309,\n",
       " 0.8095014691352844,\n",
       " 0.9999955296516418,\n",
       " -0.9779530167579651,\n",
       " 0.6011896729469299,\n",
       " -0.8299559950828552,\n",
       " -0.2544006407260895,\n",
       " -0.7841112017631531,\n",
       " -0.655247151851654,\n",
       " 0.9999873638153076,\n",
       " 0.9999319911003113,\n",
       " -0.9739892482757568,\n",
       " -0.9996010065078735,\n",
       " 0.9935691952705383,\n",
       " 0.9264558553695679,\n",
       " 0.6537737846374512,\n",
       " -0.999888002872467,\n",
       " -0.9999980926513672,\n",
       " -0.9848827719688416,\n",
       " -0.9999999403953552,\n",
       " 0.9455534815788269,\n",
       " -0.9999999403953552,\n",
       " -0.4347744584083557,\n",
       " 0.9960339665412903,\n",
       " 0.999993622303009,\n",
       " -0.9999443888664246,\n",
       " -0.9335628151893616,\n",
       " 0.9999955296516418,\n",
       " 0.9999945759773254,\n",
       " 0.9319666624069214,\n",
       " 0.999705970287323,\n",
       " 0.9779127240180969,\n",
       " -0.9999997615814209,\n",
       " -0.9999979734420776,\n",
       " 0.9998584389686584,\n",
       " -0.9318667650222778,\n",
       " -0.9997481107711792,\n",
       " -0.9510407447814941,\n",
       " 0.9660475850105286,\n",
       " -0.25995391607284546,\n",
       " 0.9999544620513916,\n",
       " 0.9792223572731018,\n",
       " 0.9992381930351257,\n",
       " -0.9990394711494446,\n",
       " 1.0,\n",
       " 0.9966996908187866,\n",
       " -0.9132043719291687,\n",
       " 0.838374674320221,\n",
       " -0.9955636858940125,\n",
       " 0.9999999403953552,\n",
       " 0.6927376389503479,\n",
       " -1.0,\n",
       " 0.999942421913147,\n",
       " -0.998464047908783,\n",
       " -0.9998220801353455,\n",
       " -0.9999482035636902,\n",
       " -0.9999680519104004,\n",
       " -0.9992222785949707,\n",
       " -0.9932911396026611,\n",
       " -0.9999990463256836,\n",
       " -0.9983988404273987,\n",
       " -1.0,\n",
       " -0.9999499320983887,\n",
       " 0.9999954700469971,\n",
       " 0.9766961932182312,\n",
       " -0.9806585907936096,\n",
       " 0.9999988079071045,\n",
       " 0.9987587928771973,\n",
       " -0.9726281762123108,\n",
       " -0.8263391852378845,\n",
       " -0.9998685121536255,\n",
       " -0.9999945759773254,\n",
       " 0.9999999403953552,\n",
       " 0.9993388056755066,\n",
       " 0.9996516108512878,\n",
       " 1.0,\n",
       " -0.9970816969871521,\n",
       " 0.022478504106402397,\n",
       " 0.6257531046867371,\n",
       " 0.9999946355819702,\n",
       " 0.9067501425743103,\n",
       " -0.9879018664360046,\n",
       " -0.8666961193084717,\n",
       " 0.9825180768966675,\n",
       " -0.8207034468650818,\n",
       " -0.9972060918807983,\n",
       " 0.3626458942890167,\n",
       " -0.9543379545211792,\n",
       " -0.9995741248130798,\n",
       " 0.9997570514678955,\n",
       " 0.902159571647644,\n",
       " -0.9999995827674866,\n",
       " -0.6650106310844421,\n",
       " 0.9999971389770508,\n",
       " -0.9279245138168335,\n",
       " -0.7687101364135742,\n",
       " -0.9780287742614746,\n",
       " -0.9752737283706665,\n",
       " -0.9814651012420654,\n",
       " 0.9999958872795105,\n",
       " -0.9999933838844299,\n",
       " -0.9999985694885254,\n",
       " -0.8322640657424927,\n",
       " 0.9999794960021973,\n",
       " 0.9998984932899475,\n",
       " 0.9564246535301208,\n",
       " -0.7396096587181091,\n",
       " -0.9999993443489075,\n",
       " 0.9999769926071167,\n",
       " -0.6260090470314026,\n",
       " 0.9983258247375488,\n",
       " 0.9999971985816956,\n",
       " 0.656215250492096,\n",
       " -0.9567598700523376,\n",
       " -0.978378176689148,\n",
       " -0.2786065340042114,\n",
       " 0.4898131787776947,\n",
       " 0.9090303778648376,\n",
       " 0.9937247037887573,\n",
       " 0.9983464479446411,\n",
       " -0.33404776453971863,\n",
       " 0.999984085559845,\n",
       " 0.9973723888397217,\n",
       " 1.0,\n",
       " 0.9870656132698059,\n",
       " 0.9821177124977112,\n",
       " -0.9929129481315613,\n",
       " 0.9903533458709717,\n",
       " 0.9052072763442993,\n",
       " -0.9621332287788391,\n",
       " 0.7818783521652222,\n",
       " 0.9985976219177246,\n",
       " 0.9999998807907104,\n",
       " -0.9028629064559937,\n",
       " -1.0,\n",
       " 1.0,\n",
       " -0.9733802080154419,\n",
       " -0.9999938011169434,\n",
       " 1.0,\n",
       " 0.9957493543624878,\n",
       " 0.9054945707321167,\n",
       " 0.9920600056648254,\n",
       " -0.947655975818634,\n",
       " -0.9999943971633911,\n",
       " 0.9929003715515137,\n",
       " -0.9999613165855408,\n",
       " 0.9825388789176941,\n",
       " 0.9997782111167908,\n",
       " 0.9996485710144043,\n",
       " -0.9996919631958008,\n",
       " -0.9997891783714294,\n",
       " -0.9998714327812195,\n",
       " -0.9513139128684998,\n",
       " -0.9999999403953552,\n",
       " -0.9222100973129272,\n",
       " 0.9999514222145081,\n",
       " -0.28046584129333496,\n",
       " -0.9748883247375488,\n",
       " 0.9992789626121521,\n",
       " -0.9999714493751526,\n",
       " -0.9999977946281433,\n",
       " -0.9977434277534485,\n",
       " -1.0,\n",
       " -0.983590304851532,\n",
       " -0.9999945163726807,\n",
       " -0.9999674558639526,\n",
       " -0.9130507707595825,\n",
       " 0.9999872446060181,\n",
       " -0.39764976501464844,\n",
       " -0.9992930293083191,\n",
       " -0.9998430013656616,\n",
       " 0.5310963988304138,\n",
       " -0.9404958486557007,\n",
       " -0.6501374840736389,\n",
       " -1.0,\n",
       " -0.2447752207517624,\n",
       " 1.0,\n",
       " 0.5303421020507812,\n",
       " 0.6159259676933289,\n",
       " -0.9999622702598572,\n",
       " 0.9550118446350098,\n",
       " -0.9994868040084839,\n",
       " -0.8761022686958313,\n",
       " 0.9999842047691345,\n",
       " 0.9999968409538269,\n",
       " 0.9990549087524414,\n",
       " 0.995032787322998,\n",
       " -0.9990866184234619,\n",
       " -0.9878761768341064,\n",
       " 0.9984807968139648,\n",
       " 0.9992800951004028,\n",
       " 0.9997925162315369,\n",
       " -0.7200010418891907,\n",
       " -0.9999915361404419,\n",
       " 0.2702150344848633,\n",
       " 0.9999979138374329,\n",
       " -0.9956304430961609,\n",
       " -0.9999998807907104,\n",
       " 0.9992889165878296,\n",
       " -0.9931018948554993,\n",
       " 0.9999996423721313,\n",
       " 0.9999974966049194,\n",
       " 0.9970600008964539,\n",
       " 0.7636448740959167,\n",
       " 0.2492344081401825,\n",
       " 0.9976241588592529,\n",
       " -0.9999987483024597,\n",
       " -0.47703319787979126,\n",
       " -0.9999880194664001,\n",
       " 1.0,\n",
       " 0.7559318542480469,\n",
       " -0.9999725222587585,\n",
       " -0.9999901056289673,\n",
       " -0.9796571135520935,\n",
       " -0.9999903440475464,\n",
       " -0.8328923583030701,\n",
       " -0.999634325504303,\n",
       " 0.9999718070030212,\n",
       " -0.9999997019767761,\n",
       " -0.7009114027023315,\n",
       " 0.9999982714653015,\n",
       " -0.9999439716339111,\n",
       " -0.7958828210830688,\n",
       " 0.8320106863975525,\n",
       " 0.9991364479064941,\n",
       " -1.0,\n",
       " -0.9999945759773254,\n",
       " 0.4160964787006378,\n",
       " -0.9955074787139893,\n",
       " 0.999874472618103,\n",
       " 0.9826292395591736,\n",
       " 0.9866594672203064,\n",
       " 0.9999998211860657,\n",
       " 0.9999876618385315,\n",
       " -0.9773608446121216,\n",
       " 0.5750698447227478,\n",
       " 0.9954397082328796,\n",
       " 0.9999579191207886,\n",
       " -0.9906917214393616,\n",
       " 0.9990525841712952,\n",
       " -0.9973344206809998,\n",
       " 0.9999914765357971,\n",
       " 0.9976105690002441,\n",
       " 0.9859640002250671,\n",
       " -0.9769060015678406,\n",
       " -0.9446994662284851,\n",
       " -0.9999971985816956,\n",
       " -0.9999997615814209,\n",
       " 0.9999994039535522,\n",
       " 0.9998224377632141,\n",
       " -0.9994728565216064,\n",
       " -0.9950333833694458,\n",
       " 0.9548152089118958,\n",
       " 1.0,\n",
       " -0.8797428607940674,\n",
       " -0.9979642033576965,\n",
       " 0.9995211362838745,\n",
       " 1.0,\n",
       " 0.999915361404419,\n",
       " 0.9999303817749023,\n",
       " -0.986506998538971,\n",
       " -0.9950563311576843,\n",
       " 0.9891979694366455,\n",
       " -0.9645187854766846,\n",
       " 0.8403622508049011,\n",
       " -1.0,\n",
       " 0.980726957321167,\n",
       " -0.9747490286827087,\n",
       " 0.9969861507415771,\n",
       " 0.9996926188468933,\n",
       " 0.5214999318122864,\n",
       " 0.9999546408653259,\n",
       " 1.0,\n",
       " 0.9975482821464539,\n",
       " 0.3493708670139313,\n",
       " -0.9408074617385864,\n",
       " -0.9848994612693787,\n",
       " 0.9999991059303284,\n",
       " 0.9999986886978149,\n",
       " 0.9996723532676697,\n",
       " 0.9998769760131836,\n",
       " -0.9134386777877808,\n",
       " -1.0,\n",
       " 0.9746703505516052,\n",
       " -0.7196568846702576,\n",
       " 0.9706290364265442,\n",
       " 0.9999999403953552,\n",
       " 0.987764835357666,\n",
       " -0.9999974370002747,\n",
       " -0.9999721050262451,\n",
       " 0.30241113901138306,\n",
       " 0.9996621608734131,\n",
       " 0.9962711334228516,\n",
       " -0.9922471642494202,\n",
       " 0.9999954104423523,\n",
       " 1.0,\n",
       " -1.0,\n",
       " -0.09162861108779907,\n",
       " -0.9999999403953552,\n",
       " 0.9989571571350098,\n",
       " -0.04397159814834595,\n",
       " -0.9999627470970154,\n",
       " 1.0,\n",
       " 0.9935245513916016,\n",
       " 0.995844841003418,\n",
       " 1.0,\n",
       " -0.9974619150161743,\n",
       " 0.9988872408866882,\n",
       " -0.990105390548706,\n",
       " -0.9995347261428833,\n",
       " 0.9999986290931702,\n",
       " -0.9997025728225708,\n",
       " 0.9999253153800964,\n",
       " -0.43564373254776,\n",
       " 0.99943608045578,\n",
       " 0.9993577599525452,\n",
       " 0.9442523717880249,\n",
       " 0.9904565215110779,\n",
       " 0.9999993443489075,\n",
       " -0.999702513217926,\n",
       " -0.998415470123291,\n",
       " -0.9957821369171143,\n",
       " 0.9999998211860657,\n",
       " -0.6713684797286987,\n",
       " 0.9960029125213623,\n",
       " -0.9968059659004211,\n",
       " -0.9999995827674866,\n",
       " -0.9994470477104187,\n",
       " 0.9999910593032837,\n",
       " 0.9999874830245972,\n",
       " -0.9999997019767761,\n",
       " 0.9999908804893494,\n",
       " -0.9951553344726562,\n",
       " 0.3934873044490814,\n",
       " 0.9987305402755737,\n",
       " 0.998256504535675,\n",
       " -0.9995288252830505,\n",
       " 0.9820500612258911,\n",
       " 0.9902275800704956,\n",
       " 0.7407776117324829,\n",
       " 0.9949837923049927,\n",
       " -0.9121968746185303,\n",
       " 1.0,\n",
       " -0.7470597624778748,\n",
       " -0.9782114028930664,\n",
       " 0.9999995231628418,\n",
       " -0.9997835755348206,\n",
       " -0.9923784136772156,\n",
       " -0.9999942779541016,\n",
       " -0.7962195873260498,\n",
       " 0.999998927116394,\n",
       " 0.9975151419639587,\n",
       " 0.9999403953552246,\n",
       " 0.9999962449073792,\n",
       " -0.9999780058860779,\n",
       " -0.5222489237785339,\n",
       " -0.9999966621398926,\n",
       " 0.9999998807907104,\n",
       " 0.9999922513961792,\n",
       " -0.9977543950080872,\n",
       " 0.6347000002861023,\n",
       " 0.9994788765907288,\n",
       " -0.05019519850611687,\n",
       " 0.9893428087234497,\n",
       " 0.9999948740005493,\n",
       " 0.9964742064476013,\n",
       " 0.9961764216423035,\n",
       " -0.9993854761123657,\n",
       " -0.9986874461174011,\n",
       " -0.9831814765930176,\n",
       " -0.9087436199188232,\n",
       " -0.9343031048774719,\n",
       " 0.9971264004707336,\n",
       " 0.20328299701213837,\n",
       " 0.9395431280136108,\n",
       " -0.6999019980430603,\n",
       " -0.751151442527771,\n",
       " -0.9984282851219177,\n",
       " 0.9993659257888794,\n",
       " 0.9999983310699463,\n",
       " -0.7132717370986938,\n",
       " -0.9963781237602234,\n",
       " 0.9972250461578369,\n",
       " 0.9998613595962524,\n",
       " -0.7047333121299744,\n",
       " -0.9999969601631165,\n",
       " 0.24810314178466797,\n",
       " -0.9873166680335999,\n",
       " 0.2219945788383484,\n",
       " 0.9999999403953552,\n",
       " -0.9607786536216736,\n",
       " 0.05196515470743179,\n",
       " -0.9854405522346497,\n",
       " 0.9999419450759888,\n",
       " 0.9439250230789185,\n",
       " 1.0,\n",
       " 0.9999999403953552,\n",
       " 0.9996009469032288,\n",
       " 0.9999962449073792,\n",
       " 1.0,\n",
       " 0.9998196959495544,\n",
       " -0.999979555606842,\n",
       " -0.9999801516532898,\n",
       " 0.998870313167572,\n",
       " -0.8343365788459778,\n",
       " -0.9711052775382996,\n",
       " -0.9043067693710327,\n",
       " 0.4106879234313965,\n",
       " -0.838234007358551,\n",
       " -0.9127987027168274,\n",
       " 0.7615436315536499,\n",
       " 0.9999739527702332,\n",
       " 0.9999999403953552,\n",
       " 0.999081552028656,\n",
       " 0.9999966621398926,\n",
       " 0.9978997707366943,\n",
       " 0.9597756266593933,\n",
       " 0.09858626127243042,\n",
       " -0.9846727252006531,\n",
       " 0.9997222423553467,\n",
       " 1.0,\n",
       " 0.9643713235855103,\n",
       " 0.9962643980979919,\n",
       " 0.991788387298584,\n",
       " 1.0,\n",
       " 0.9963077902793884,\n",
       " -0.9940040707588196,\n",
       " 1.0,\n",
       " -0.9999576210975647,\n",
       " 0.9998401999473572,\n",
       " -0.9999987483024597,\n",
       " -0.9997629523277283,\n",
       " -0.8682723045349121,\n",
       " 0.6903637647628784,\n",
       " -0.9999999403953552,\n",
       " 0.989473819732666,\n",
       " 0.9958595037460327,\n",
       " -0.9995633959770203,\n",
       " -0.7832345962524414,\n",
       " 0.9999671578407288,\n",
       " -1.0,\n",
       " -0.9760886430740356,\n",
       " -0.9961367249488831,\n",
       " -0.9999999403953552,\n",
       " -1.0,\n",
       " -0.9999998807907104,\n",
       " 0.005122259259223938,\n",
       " -0.9945639371871948,\n",
       " -0.9934664964675903,\n",
       " -0.9356577396392822,\n",
       " -0.9999848008155823,\n",
       " 0.9147897958755493,\n",
       " 0.9794677495956421,\n",
       " -0.29749825596809387,\n",
       " 0.9999982714653015,\n",
       " 0.999993085861206,\n",
       " -0.986939013004303,\n",
       " 0.970585286617279,\n",
       " 0.9999008774757385,\n",
       " 0.9567596316337585,\n",
       " -0.8896993398666382,\n",
       " -0.3964606523513794,\n",
       " -0.9999851584434509,\n",
       " -0.9994198679924011,\n",
       " 0.9999923706054688,\n",
       " 0.9998577833175659,\n",
       " 1.0,\n",
       " 0.999999463558197,\n",
       " -0.8073893189430237,\n",
       " -0.9999308586120605,\n",
       " 0.9996596574783325,\n",
       " -0.921589195728302,\n",
       " -0.36408570408821106,\n",
       " -0.9999755620956421,\n",
       " -0.9999774694442749,\n",
       " -0.49837175011634827,\n",
       " 0.6994410753250122,\n",
       " -0.9999438524246216,\n",
       " -0.9997803568840027,\n",
       " 0.9991251230239868,\n",
       " 0.9669179320335388,\n",
       " 0.9999998807907104,\n",
       " 1.0,\n",
       " 1.0,\n",
       " 0.9715887904167175,\n",
       " -0.9998754858970642,\n",
       " 0.9942351579666138,\n",
       " 0.9990424513816833,\n",
       " -0.9996504187583923,\n",
       " 0.9999974966049194,\n",
       " 0.9998712539672852,\n",
       " 0.5606968402862549,\n",
       " -0.7505902647972107,\n",
       " 0.9999971985816956,\n",
       " -0.9998314380645752,\n",
       " 0.9403148889541626,\n",
       " -0.39404648542404175,\n",
       " 0.9999219179153442,\n",
       " 0.6005099415779114,\n",
       " 0.9930739402770996,\n",
       " -1.0,\n",
       " 1.0,\n",
       " -0.9999856948852539,\n",
       " 0.9931708574295044,\n",
       " 0.9999233484268188,\n",
       " -0.9080143570899963,\n",
       " 0.9995772242546082,\n",
       " -0.08491752296686172,\n",
       " -0.9690040946006775,\n",
       " 0.9562428593635559,\n",
       " -0.9981966018676758,\n",
       " -0.7484925985336304,\n",
       " -0.9999805688858032,\n",
       " 0.9960989356040955,\n",
       " 0.9999951720237732,\n",
       " -0.9999837875366211,\n",
       " -0.9691164493560791,\n",
       " -0.9999955892562866,\n",
       " 0.9999868869781494,\n",
       " 0.9671061635017395,\n",
       " -0.7792121767997742,\n",
       " -0.9337118864059448,\n",
       " -0.993659257888794,\n",
       " 0.9999024271965027,\n",
       " -0.997288167476654,\n",
       " -0.47519904375076294,\n",
       " 0.4616181552410126,\n",
       " 0.8195043206214905,\n",
       " 0.984412431716919,\n",
       " 0.6601706147193909,\n",
       " 0.9969537854194641,\n",
       " 0.9999974370002747,\n",
       " 0.9999994039535522,\n",
       " -0.34522518515586853,\n",
       " -0.6576290726661682,\n",
       " 1.0,\n",
       " -0.9999820590019226,\n",
       " -0.9999999403953552,\n",
       " 0.9999564290046692,\n",
       " -0.8079715967178345,\n",
       " -0.84161776304245,\n",
       " -0.993401050567627,\n",
       " 0.9968197345733643,\n",
       " -0.9698160290718079,\n",
       " -0.9644455909729004,\n",
       " -0.9961028099060059,\n",
       " 0.9609128832817078,\n",
       " 0.991883397102356,\n",
       " -0.7623031735420227,\n",
       " -0.9651315212249756,\n",
       " -0.9997057914733887,\n",
       " -0.9998828768730164,\n",
       " -0.9823068976402283,\n",
       " -0.5724995732307434,\n",
       " 0.961392879486084,\n",
       " -0.49251875281333923,\n",
       " -0.9999995827674866,\n",
       " -0.9118373990058899,\n",
       " 0.9509289860725403,\n",
       " 0.2798522710800171,\n",
       " -0.999107301235199,\n",
       " 0.9760764241218567,\n",
       " -0.9999996423721313,\n",
       " -0.0440874807536602,\n",
       " -0.9991833567619324,\n",
       " -0.9979013204574585,\n",
       " -0.999039888381958,\n",
       " 0.999996542930603,\n",
       " -0.756571888923645,\n",
       " 0.4602434039115906,\n",
       " 0.9941437840461731,\n",
       " -0.9431617856025696,\n",
       " 0.9993552565574646,\n",
       " 0.9996356964111328,\n",
       " -0.9999986290931702,\n",
       " -0.7378553152084351,\n",
       " 0.9015825986862183,\n",
       " -0.9979897737503052,\n",
       " 0.9999216198921204,\n",
       " -0.9416670799255371,\n",
       " -0.8336087465286255,\n",
       " 0.6840472221374512,\n",
       " -0.9980457425117493,\n",
       " 1.0,\n",
       " 0.9988377094268799,\n",
       " -0.4745524525642395,\n",
       " 0.9579533338546753,\n",
       " -1.0,\n",
       " -1.0,\n",
       " 0.9993125200271606,\n",
       " 0.9999632239341736,\n",
       " 0.7483909726142883,\n",
       " -0.9890069961547852,\n",
       " -0.6051071286201477,\n",
       " -0.18170763552188873,\n",
       " -0.45043516159057617,\n",
       " 0.9562355875968933,\n",
       " 0.9200426936149597,\n",
       " 0.9998474717140198,\n",
       " 0.9999961256980896,\n",
       " 0.9997398257255554,\n",
       " 0.6016088128089905,\n",
       " 0.9987313747406006,\n",
       " 0.9018997550010681,\n",
       " -0.7301978468894958,\n",
       " -0.9999962449073792,\n",
       " -0.999671220779419,\n",
       " 0.9886369705200195,\n",
       " -0.9999673962593079,\n",
       " 0.9999999403953552,\n",
       " 0.9947219491004944,\n",
       " 0.3413317799568176,\n",
       " -0.005188880488276482,\n",
       " 0.9999997615814209,\n",
       " 0.6746324300765991,\n",
       " -0.3639852702617645,\n",
       " 0.969049334526062,\n",
       " 0.9870827794075012,\n",
       " -0.9999589920043945,\n",
       " -0.22613836824893951,\n",
       " 0.9999959468841553,\n",
       " -0.9999569654464722,\n",
       " 0.9960743188858032,\n",
       " -0.9197620749473572,\n",
       " 0.9999962449073792,\n",
       " -0.9993183016777039,\n",
       " -0.9341831207275391,\n",
       " 0.9999995231628418,\n",
       " 0.999370276927948,\n",
       " 0.9999995827674866,\n",
       " -0.9999933838844299,\n",
       " 0.9842402935028076,\n",
       " 0.9720037579536438,\n",
       " 0.9999738931655884,\n",
       " 0.9927579164505005,\n",
       " 0.9633733034133911,\n",
       " 0.99931800365448,\n",
       " 0.9985504746437073,\n",
       " 0.023632893338799477,\n",
       " 0.9965823292732239,\n",
       " -1.0,\n",
       " 0.9238297939300537,\n",
       " 0.9994994401931763,\n",
       " -0.9962184429168701,\n",
       " -0.9970365762710571,\n",
       " -0.744782567024231,\n",
       " -0.9969920516014099,\n",
       " -0.9999805688858032,\n",
       " -0.4616599977016449,\n",
       " 0.9943370819091797,\n",
       " -0.9999995827674866,\n",
       " -0.9936453104019165,\n",
       " 0.9226515293121338,\n",
       " 0.2630254924297333,\n",
       " -0.7297933101654053,\n",
       " -0.9972667694091797,\n",
       " 0.9999992847442627,\n",
       " 1.0,\n",
       " 0.9935709834098816,\n",
       " 0.9999993443489075,\n",
       " 0.9742825031280518,\n",
       " -0.6215583682060242,\n",
       " -0.9923649430274963,\n",
       " 1.0,\n",
       " 0.9989307522773743,\n",
       " -0.2641673982143402,\n",
       " 0.9999962449073792,\n",
       " 0.9796607494354248,\n",
       " 0.7210972905158997,\n",
       " -0.6381289958953857,\n",
       " -0.8915582895278931,\n",
       " 0.4034971296787262,\n",
       " 0.9999991059303284,\n",
       " 0.7616604566574097,\n",
       " 0.9997807145118713,\n",
       " 0.9950311779975891,\n",
       " 0.9999856948852539,\n",
       " -0.9136130213737488,\n",
       " 0.5313976407051086,\n",
       " 0.9990641474723816,\n",
       " 0.9990935325622559,\n",
       " 0.996920645236969,\n",
       " -0.9827965497970581,\n",
       " 0.9914767742156982,\n",
       " -0.7608608603477478,\n",
       " -0.9999951720237732,\n",
       " 0.9999887347221375,\n",
       " 0.9723817706108093,\n",
       " -1.0,\n",
       " 0.04062787443399429,\n",
       " 0.9995129704475403,\n",
       " 0.9999307990074158,\n",
       " 0.999830961227417,\n",
       " -0.9938316941261292,\n",
       " -0.830994725227356,\n",
       " 0.9999995827674866,\n",
       " -0.9997881650924683,\n",
       " 0.9331309199333191,\n",
       " -0.9989826679229736,\n",
       " 0.817861795425415,\n",
       " -0.9998709559440613,\n",
       " 0.9968336820602417,\n",
       " -0.4521482586860657,\n",
       " 0.987983763217926,\n",
       " 0.9983922243118286,\n",
       " 0.9999996423721313,\n",
       " 0.9996381998062134,\n",
       " 0.9999989867210388,\n",
       " -0.34491539001464844,\n",
       " -0.9999999403953552,\n",
       " 0.9999995231628418,\n",
       " -0.5721126794815063,\n",
       " 0.5975663661956787,\n",
       " -0.9999942183494568,\n",
       " 0.999568521976471,\n",
       " 0.9999996423721313,\n",
       " -0.9979686737060547,\n",
       " 0.955635666847229,\n",
       " -0.960921585559845,\n",
       " ...]"
      ]
     },
     "execution_count": 31,
     "metadata": {},
     "output_type": "execute_result"
    }
   ],
   "source": [
    "hidden_layer.view(-1).tolist() # one large python list of floats"
   ]
  },
  {
   "cell_type": "code",
   "execution_count": 32,
   "metadata": {},
   "outputs": [
    {
     "data": {
      "image/png": "[encoded data removed]",
      "text/plain": [
       "<Figure size 640x480 with 1 Axes>"
      ]
     },
     "metadata": {},
     "output_type": "display_data"
    }
   ],
   "source": [
    "plt.hist(hidden_layer.view(-1).tolist(),50); # ; suppresses a bunch of values we dont want"
   ]
  },
  {
   "cell_type": "markdown",
   "metadata": {},
   "source": [
    "By taking the histogram of h we will get a better idea of distribution of the values inside the tensor.\n",
    "From this we understand that most of the values take on the value of -1 and 1 meaning tanh is very very active"
   ]
  },
  {
   "cell_type": "code",
   "execution_count": 33,
   "metadata": {},
   "outputs": [
    {
     "data": {
      "image/png": "[encoded data removed]",
      "text/plain": [
       "<Figure size 640x480 with 1 Axes>"
      ]
     },
     "metadata": {},
     "output_type": "display_data"
    }
   ],
   "source": [
    "plt.hist(hidden_layer_preactivation.view(-1).tolist(),50);"
   ]
  },
  {
   "cell_type": "markdown",
   "metadata": {},
   "source": [
    "The distribution of the pre activations is very very broad taking numbers between -15 nd 15 and thats why in the torch.tanh everything is being squashed and capped to be in the range of -1 nd 1 and and lots of numbers in betweent take on extreme values.\n",
    "\n",
    "During backpropogation, we are ding backward pass starting at the loss and flowing through the network backwards in particular we are going to backpropogate through this torch.tanh and this hidden layer is made up of 200 neurons for each one of these examples and it implements an element wise tanh"
   ]
  },
  {
   "cell_type": "markdown",
   "metadata": {},
   "source": [
    "```python \n",
    "def tanh(self):\n",
    "    x = self.data\n",
    "    t = (math.exp(2*x) - 1)/(math.exp(2*x) + 1)\n",
    "    out = Value(t, (self, ), 'tanh')\n",
    "\n",
    "    def _backward():\n",
    "        self.grad += (1 - t**2) * out.grad\n",
    "    out._backward = _backward\n",
    "```\n",
    "\n",
    "This is the code for backward propogation of a tanh fn. <br>\n",
    "Here x is the input and t is output of the tanh which is in between -1 and 1. <br>\n",
    "To backpropogate, we take out the grad and multiply it with the local gradient $(1 - t^{2})$ (chain rule).\n",
    "\n",
    "If the outputs of tanh are very close 1 and -1, then it would cause  a 0 for the grad $(1- 1^{2})$ is nothing but 0. This may cause always 0 no matter what the value of out.grad is. This inturn would be interpreted as a disruption to the backpropogation through this tanh unit."
   ]
  },
  {
   "cell_type": "code",
   "execution_count": 34,
   "metadata": {},
   "outputs": [
    {
     "data": {
      "image/png": "[encoded data removed]",
      "text/plain": [
       "<Figure size 640x480 with 1 Axes>"
      ]
     },
     "metadata": {},
     "output_type": "display_data"
    }
   ],
   "source": [
    "# Generate a range of values from -5 to 5 with 100 points\n",
    "x = torch.linspace(-5, 5, 100)\n",
    "y = torch.tanh(x)\n",
    "\n",
    "# Plot the S-shaped tanh curve\n",
    "plt.plot(x.numpy(), y.numpy())\n",
    "plt.title(\"tanh Function (S-shaped Curve)\")\n",
    "plt.xlabel(\"x\")\n",
    "plt.ylabel(\"tanh(x)\")\n",
    "plt.grid(True)\n",
    "plt.show()\n"
   ]
  },
  {
   "cell_type": "markdown",
   "metadata": {},
   "source": [
    "Analysing it intuitively, we understand that the values that are close to 1 fall in that flat area region/ the tail area. So changing the input is not going to impact the output of tanh much because its in the flat region of tanh and therefore there is no impact on the loss.So the weights and biases along with the tanh neuron do not impact the loss.\n",
    "\n",
    "This proves that the gradient will eventually become 0 and vanishes and the grad will pass through as it is when the tanh becomes 0.\n",
    "\n",
    "- If t = 0, tanh is inactive <br>\n",
    "- More in the flat tail means more the gradient is squashed.\n",
    "\n",
    "We can say finally that the gradient flowing through tanh can only decrease in the amt and decrease in amt is proportional through a square here depending on how far we are in the flat tails of the tanh\n",
    "\n",
    "So the concern here, if almost all elements of hidden layer is 1 and the hidden layer just passes these gradients through, the network will get just destroyed at this layer"
   ]
  },
  {
   "cell_type": "code",
   "execution_count": 35,
   "metadata": {},
   "outputs": [
    {
     "data": {
      "text/plain": [
       "<matplotlib.image.AxesImage at 0x79816d724790>"
      ]
     },
     "execution_count": 35,
     "metadata": {},
     "output_type": "execute_result"
    },
    {
     "data": {
      "image/png": "[encoded data removed]",
      "text/plain": [
       "<Figure size 2000x1000 with 1 Axes>"
      ]
     },
     "metadata": {},
     "output_type": "display_data"
    }
   ],
   "source": [
    "plt.figure(figsize=(20,10))\n",
    "plt.imshow(hidden_layer.abs() > 0.99, cmap = 'gray', interpolation='nearest')"
   ]
  },
  {
   "cell_type": "markdown",
   "metadata": {},
   "source": [
    "Gives us an understanding as to how often the network is in the flat region <br>\n",
    "This is a boolean tensor <br>\n",
    "<pre>   hidden_layer.abs() > 0.99</pre> \n",
    "This will cause a light region if its true and dark if its false <br>\n",
    "There is having 32 examples and then 200 hidden neurons.<br>\n",
    "\n",
    "This gives us much more of a proof that the network was in the flat tail region for the longest time and therefore gradient would get destroyed.\n",
    "\n",
    "It would have been a bigger trouble, if for anyone of the 200 neurons have a column fully white then it would mean that it is a dead neuron. This could be a tanh neuronw where the initialisation of the weights and biases could be such that no single example would ever activate the tanh in the active part of tanh if all the examples land in the tail then this neuron would never learn and this would be a dead neuron. This means whatever the weights or bias is tanh will just not learn because all the gradients will zeroed out. But luckily no such example is there"
   ]
  },
  {
   "cell_type": "code",
   "execution_count": 36,
   "metadata": {},
   "outputs": [
    {
     "data": {
      "image/png": "[encoded data removed]",
      "text/plain": [
       "<Figure size 1200x800 with 6 Axes>"
      ]
     },
     "metadata": {},
     "output_type": "display_data"
    }
   ],
   "source": [
    "# Define the range of x values\n",
    "x = torch.linspace(-5, 5, 100)\n",
    "\n",
    "# Define the activation functions\n",
    "activations = {\n",
    "    \"Sigmoid\": torch.sigmoid(x),\n",
    "    \"Tanh\": torch.tanh(x),\n",
    "    \"ReLU\": F.relu(x),\n",
    "    \"Leaky ReLU\": F.leaky_relu(x, negative_slope=0.1),\n",
    "    \"ELU\": F.elu(x),\n",
    "}\n",
    "\n",
    "# Define Maxout manually (since it's not directly available in PyTorch)\n",
    "# Maxout generally takes two or more linear functions and outputs the maximum\n",
    "# Here we simulate it with two linear transformations for simplicity\n",
    "# maxout is max(w1^T * x + b1, w2^T * x + b2) \n",
    "W1 = torch.randn(100)\n",
    "b1 = torch.randn(100)\n",
    "W2 = torch.randn(100)\n",
    "b2 = torch.randn(100)\n",
    "maxout = torch.max(x * W1 + b1, x * W2 + b2)\n",
    "activations[\"Maxout\"] = maxout\n",
    "\n",
    "# Create the grid of plots\n",
    "plt.figure(figsize=(12, 8))\n",
    "\n",
    "for i, (name, y) in enumerate(activations.items(), 1):\n",
    "    plt.subplot(2, 3, i)  # 2 rows, 3 columns, i-th subplot\n",
    "    plt.plot(x.numpy(), y.numpy())\n",
    "    plt.title(name)\n",
    "    plt.grid(True)\n",
    "\n",
    "plt.tight_layout()\n",
    "plt.show()\n"
   ]
  },
  {
   "cell_type": "markdown",
   "metadata": {},
   "source": [
    "- Sigmoid is similar to tanh since its also a squashing neuron <br><br>\n",
    "- ReLU has a flat region below 0 meaning it pass through if it is positive and if the pre-activation is negative, it will just shut it off/ flatten. Therefore similar to tanh.<br><br>\n",
    "     -  If a neuron with a ReLU nonlinearity never activates, so for any examples that you plug in to the dataset, it never turns on and its always in the flat region then its a dead neuron.<br>\n",
    "     - This could happen in situations of initialisation because the weights and biases just make it so that by chance some neurons are forever dead but it could happen in case of optimisation if you have like a too high of a learning rate, sometimes we could neurons that gets too much of a gradient and they get knocked out off the data manifold causing no example to ever activate this neuron so its kind of a permanent damage.<br>\n",
    "     - There could be situations when the Learning rate is too high and the neural net with ReLU neurons you train the net and we get some loss but on then going back throught the entire training set and on forwarding the examples and we can find the neurons that never activate. There are some dead neurons in the network and those neurons will never turn on and usually during the training, the ReLu neurons move and change and then because of the high gradient somewhere by chance could have been knocked off and then onwards nothing activates them and they are dead <br>\n",
    "- Leaky ReLU, Maxout and ELU: Since it doesnt have flat areas, its fine<br>\n",
    "\n",
    "\n",
    "Coming to our point, we dont want such a  saturated value from tanh in both sides of the graph because this means we have done less training for these neurons because they update less frequently"
   ]
  },
  {
   "cell_type": "markdown",
   "metadata": {},
   "source": [
    "```python\n",
    "    hidden_layer_preactivation = embcat @ W1 + b1\n",
    "    hidden_layer = torch.tanh(hidden_layer_preactivation)\n",
    "```\n",
    "\n",
    "hidden_layer_preactivation is a uniform gaussian multiplied by W1 and summed to b1 and it is too far from 0 and thats causing the issue. But we want to have it really close to 0 like the logits"
   ]
  },
  {
   "cell_type": "code",
   "execution_count": 37,
   "metadata": {},
   "outputs": [
    {
     "name": "stdout",
     "output_type": "stream",
     "text": [
      "11897\n"
     ]
    }
   ],
   "source": [
    "# MLP revisited\n",
    "n_embd = 10\n",
    "n_hidden =200\n",
    "\n",
    "g = torch.Generator().manual_seed(2147483647)\n",
    "C = torch.randn((vocab_size,n_embd), generator=g) \n",
    "W1 = torch.randn((n_embd * block_size,n_hidden), generator=g) * 0.2\n",
    "b1 = torch.randn((n_hidden), generator=g) * 0.01 # keeping a bit of entropy\n",
    "W2 = torch.randn((n_hidden,vocab_size), generator=g) * 0.01 # scaling down thse values from 1 to 0.1 to 0.01\n",
    "b2 = torch.randn(vocab_size, generator=g) * 0 \n",
    "\n",
    "# taking the same set of parameters\n",
    "parameters = [C, W1, b1, W2, b2]\n",
    "print(sum(p.nelement() for p in parameters))\n",
    "\n",
    "for p in parameters:\n",
    "    p.requires_grad = True"
   ]
  },
  {
   "cell_type": "code",
   "execution_count": 38,
   "metadata": {},
   "outputs": [
    {
     "name": "stdout",
     "output_type": "stream",
     "text": [
      "      0/ 200000:3.313459\n"
     ]
    },
    {
     "name": "stdout",
     "output_type": "stream",
     "text": [
      "  10000/ 200000:2.164827\n",
      "  20000/ 200000:2.306089\n",
      "  30000/ 200000:2.454139\n",
      "  40000/ 200000:1.978676\n",
      "  50000/ 200000:2.292972\n",
      "  60000/ 200000:2.423232\n",
      "  70000/ 200000:2.067997\n",
      "  80000/ 200000:2.309545\n",
      "  90000/ 200000:2.120710\n",
      " 100000/ 200000:1.826862\n",
      " 110000/ 200000:2.204488\n",
      " 120000/ 200000:1.979652\n",
      " 130000/ 200000:2.394567\n",
      " 140000/ 200000:2.100050\n",
      " 150000/ 200000:2.194798\n",
      " 160000/ 200000:1.861945\n",
      " 170000/ 200000:1.780918\n",
      " 180000/ 200000:1.967283\n",
      " 190000/ 200000:1.829466\n"
     ]
    }
   ],
   "source": [
    "max_steps = 200000\n",
    "batch_size = 32\n",
    "lossi = []\n",
    "\n",
    "for i in range(max_steps):\n",
    "    \n",
    "    # minibatch construct\n",
    "    index = torch.randint(0, Xtr.shape[0], (batch_size,),generator=g)\n",
    "    Xb, Yb = Xtr[index], Ytr[index]\n",
    "    \n",
    "    # forward pass\n",
    "    embedding = C[Xb] # index into those rows in the dataset therefore causing the embeedings to be of shape [32,3,2] instead of [228146,3,2]\n",
    "    embcat = embedding.view(embedding.shape[0],-1)\n",
    "    hidden_layer_preactivation = embcat @ W1 + b1\n",
    "    hidden_layer = torch.tanh(hidden_layer_preactivation)\n",
    "    logits = hidden_layer @ W2 + b2\n",
    "    loss = F.cross_entropy(logits, Yb) # each minibatch for each Y\n",
    "    \n",
    "    #backward pass\n",
    "    for p in parameters:\n",
    "        p.grad = None\n",
    "    \n",
    "    loss.backward()\n",
    "    \n",
    "    #update\n",
    "    lr = 0.1 if i < 100000 else 0.01\n",
    "    for p in parameters:\n",
    "        p.data += -lr * p.grad\n",
    "        \n",
    "    if i % 10000 == 0:\n",
    "        print(f'{i:7d}/{max_steps:7d}:{loss.item():4f}')\n",
    "    lossi.append(loss.log10().item())"
   ]
  },
  {
   "cell_type": "code",
   "execution_count": 39,
   "metadata": {},
   "outputs": [
    {
     "data": {
      "text/plain": [
       "[<matplotlib.lines.Line2D at 0x79816dd7e380>]"
      ]
     },
     "execution_count": 39,
     "metadata": {},
     "output_type": "execute_result"
    },
    {
     "data": {
      "image/png": "[encoded data removed]",
      "text/plain": [
       "<Figure size 640x480 with 1 Axes>"
      ]
     },
     "metadata": {},
     "output_type": "display_data"
    }
   ],
   "source": [
    "plt.plot(lossi)"
   ]
  },
  {
   "cell_type": "code",
   "execution_count": 40,
   "metadata": {},
   "outputs": [
    {
     "name": "stdout",
     "output_type": "stream",
     "text": [
      "train 2.0355966091156006\n",
      "val 2.1026782989501953\n"
     ]
    }
   ],
   "source": [
    "@torch.no_grad() # disables gradient tracking. implicitly advising not to keep track of the grad under the hood since we wont be anyway backtracking this.\n",
    "def split_loss(split):\n",
    "    x, y = {\n",
    "        'train': (Xtr, Ytr),\n",
    "        'val': (Xdev, Ydev),\n",
    "        'test': (Xte, Yte)\n",
    "    }[split]\n",
    "    \n",
    "    embedding = C[x]\n",
    "    embeddingCat = embedding.view(embedding.shape[0], -1)  # concat to (N, block_size * n_emb)\n",
    "    h = torch.tanh(embeddingCat @ W1 + b1)  # Matrix multiplication instead of element-wise\n",
    "    logits = h @ W2 + b2\n",
    "    loss = F.cross_entropy(logits, y)\n",
    "    print(split, loss.item())\n",
    "\n",
    "split_loss('train')\n",
    "split_loss('val')\n"
   ]
  },
  {
   "cell_type": "code",
   "execution_count": 41,
   "metadata": {},
   "outputs": [
    {
     "data": {
      "text/plain": [
       "<matplotlib.image.AxesImage at 0x79816a7311b0>"
      ]
     },
     "execution_count": 41,
     "metadata": {},
     "output_type": "execute_result"
    },
    {
     "data": {
      "image/png": "[encoded data removed]",
      "text/plain": [
       "<Figure size 2000x1000 with 1 Axes>"
      ]
     },
     "metadata": {},
     "output_type": "display_data"
    }
   ],
   "source": [
    "plt.figure(figsize=(20,10))\n",
    "plt.imshow(hidden_layer.abs() > 0.99, cmap = 'gray', interpolation='nearest')"
   ]
  },
  {
   "cell_type": "code",
   "execution_count": 42,
   "metadata": {},
   "outputs": [
    {
     "data": {
      "image/png": "[encoded data removed]",
      "text/plain": [
       "<Figure size 640x480 with 1 Axes>"
      ]
     },
     "metadata": {},
     "output_type": "display_data"
    }
   ],
   "source": [
    "plt.hist(hidden_layer.view(-1).tolist(),50);"
   ]
  },
  {
   "cell_type": "code",
   "execution_count": 43,
   "metadata": {},
   "outputs": [
    {
     "data": {
      "image/png": "[encoded data removed]",
      "text/plain": [
       "<Figure size 640x480 with 1 Axes>"
      ]
     },
     "metadata": {},
     "output_type": "display_data"
    }
   ],
   "source": [
    "plt.hist(hidden_layer_preactivation.view(-1).tolist(),50);"
   ]
  },
  {
   "cell_type": "markdown",
   "metadata": {},
   "source": [
    "The grpahs are correct because there are no neurons that is saturated above 0.99 in either direction."
   ]
  },
  {
   "cell_type": "markdown",
   "metadata": {},
   "source": [
    " loss log\n",
    "\n",
    "original <br>\n",
    "train 2.124457836151123 <br>\n",
    "val 2.1642823219299316\n",
    "\n",
    "fix softmax confidently wrong <br>\n",
    "train 2.0695769786834717 <br>\n",
    "val 2.131199836730957\n",
    "\n",
    "fox tanh layer too saturated at init <br>\n",
    "train 2.0355966091156006 <br>\n",
    "val 2.1026782989501953"
   ]
  },
  {
   "cell_type": "markdown",
   "metadata": {},
   "source": [
    "### Calculating the init scale: Kaiming init"
   ]
  },
  {
   "cell_type": "markdown",
   "metadata": {},
   "source": [
    "How to set the init values/scales like 0.1 or 0.2 while initialisation"
   ]
  },
  {
   "cell_type": "code",
   "execution_count": 44,
   "metadata": {},
   "outputs": [
    {
     "name": "stdout",
     "output_type": "stream",
     "text": [
      "tensor(0.0049) tensor(1.0041)\n",
      "tensor(0.0007) tensor(3.0758)\n"
     ]
    },
    {
     "data": {
      "text/plain": [
       "(array([6.83502997e-06, 0.00000000e+00, 6.83502997e-06, 0.00000000e+00,\n",
       "        6.83502997e-06, 2.73401199e-05, 1.36700599e-05, 4.78452098e-05,\n",
       "        5.46802397e-05, 1.23030539e-04, 2.66566169e-04, 3.69091618e-04,\n",
       "        6.97173057e-04, 1.21663533e-03, 2.04367396e-03, 3.41067995e-03,\n",
       "        5.18095271e-03, 8.59163267e-03, 1.40869968e-02, 2.17764055e-02,\n",
       "        3.17418792e-02, 4.68404604e-02, 6.35794487e-02, 8.32848401e-02,\n",
       "        1.04138517e-01, 1.21977945e-01, 1.35258408e-01, 1.38464037e-01,\n",
       "        1.30022775e-01, 1.16954198e-01, 9.51026070e-02, 7.46795374e-02,\n",
       "        5.51791969e-02, 3.94176178e-02, 2.68821729e-02, 1.71490902e-02,\n",
       "        1.10317384e-02, 6.89654524e-03, 4.38808924e-03, 2.71350690e-03,\n",
       "        1.38067605e-03, 7.72358386e-04, 5.74142517e-04, 2.46061079e-04,\n",
       "        1.43535629e-04, 9.56904195e-05, 6.15152697e-05, 4.78452098e-05,\n",
       "        2.05050899e-05, 3.41751498e-05]),\n",
       " array([-19.94574165, -19.21421597, -18.48269028, -17.75116459,\n",
       "        -17.0196389 , -16.28811321, -15.55658752, -14.82506184,\n",
       "        -14.09353615, -13.36201046, -12.63048477, -11.89895908,\n",
       "        -11.1674334 , -10.43590771,  -9.70438202,  -8.97285633,\n",
       "         -8.24133064,  -7.50980495,  -6.77827927,  -6.04675358,\n",
       "         -5.31522789,  -4.5837022 ,  -3.85217651,  -3.12065083,\n",
       "         -2.38912514,  -1.65759945,  -0.92607376,  -0.19454807,\n",
       "          0.53697762,   1.2685033 ,   2.00002899,   2.73155468,\n",
       "          3.46308037,   4.19460606,   4.92613174,   5.65765743,\n",
       "          6.38918312,   7.12070881,   7.8522345 ,   8.58376019,\n",
       "          9.31528587,  10.04681156,  10.77833725,  11.50986294,\n",
       "         12.24138863,  12.97291431,  13.70444   ,  14.43596569,\n",
       "         15.16749138,  15.89901707,  16.63054276]),\n",
       " <BarContainer object of 50 artists>)"
      ]
     },
     "execution_count": 44,
     "metadata": {},
     "output_type": "execute_result"
    },
    {
     "data": {
      "image/png": "[encoded data removed]",
      "text/plain": [
       "<Figure size 2000x500 with 2 Axes>"
      ]
     },
     "metadata": {},
     "output_type": "display_data"
    }
   ],
   "source": [
    "x = torch.randn(1000, 10)\n",
    "w = torch.randn(10,200)\n",
    "y = x @ w\n",
    "\n",
    "print(x.mean(), x.std())\n",
    "print(y.mean(), y.std())\n",
    "\n",
    "plt.figure(figsize=(20,5))\n",
    "plt.subplot(121)\n",
    "plt.hist(x.view(-1).tolist(), 50, density=True)\n",
    "plt.subplot(122)\n",
    "plt.hist(y.view(-1).tolist(), 50, density=True)"
   ]
  },
  {
   "cell_type": "markdown",
   "metadata": {},
   "source": [
    "We have some random x drawn from a gaussian and there are 1000 more examples that are 10 dimensional and the weight and the layer here is also initialised using gaussian.\n",
    "\n",
    "If both are uniform gaussians and on doing x @ w with bias and non linearity not considering, so initially the mean is 0 and the std deviation which is the measure of spread of the gaussian is actually  1.\n",
    "\n",
    "But y = x @ w is having the mean same because its a symmetric operation but the std deviation has expanded to 3 from the input std deviation of 1. Gaussian is expanding from the input and we do want the most of the neural nets to have relatively similar activations so a uniform gaussian roughly throughout the neural net. To preserve the distribution or remain a gaussian, <br>\n",
    "<pre>   w = torch.randn(10,200) * 5 </pre>\n",
    "then this gaussian grows because y would start taking more and more extreme values, and  <br>\n",
    "<pre>   w = torch.randn(10,200) * 0.2 </pre>\n",
    "makes the gaussian smaller and smaller"
   ]
  },
  {
   "cell_type": "code",
   "execution_count": 45,
   "metadata": {},
   "outputs": [
    {
     "name": "stdout",
     "output_type": "stream",
     "text": [
      "tensor(-0.0028) tensor(1.0038)\n",
      "tensor(-0.0269) tensor(15.8716)\n"
     ]
    },
    {
     "data": {
      "text/plain": [
       "(array([4.63803935e-06, 6.18405247e-06, 2.31901967e-05, 3.40122886e-05,\n",
       "        3.55583017e-05, 7.73006558e-05, 9.12147739e-05, 1.94797653e-04,\n",
       "        2.87558440e-04, 4.51435830e-04, 6.30773351e-04, 9.94086434e-04,\n",
       "        1.41614801e-03, 2.23708098e-03, 3.24817356e-03, 4.50199019e-03,\n",
       "        6.24434698e-03, 8.58810286e-03, 1.15750002e-02, 1.43856520e-02,\n",
       "        1.82244026e-02, 2.20863434e-02, 2.48397927e-02, 2.68279656e-02,\n",
       "        2.72994996e-02, 2.65094869e-02, 2.38472523e-02, 2.00858024e-02,\n",
       "        1.64186593e-02, 1.32508784e-02, 9.98724473e-03, 7.36056845e-03,\n",
       "        5.39249375e-03, 3.85266469e-03, 2.65141249e-03, 1.86603783e-03,\n",
       "        1.21980435e-03, 8.65767345e-04, 6.01399102e-04, 3.78773213e-04,\n",
       "        2.17987849e-04, 1.31411115e-04, 1.05128892e-04, 5.87484984e-05,\n",
       "        3.55583017e-05, 2.62822230e-05, 1.39141180e-05, 1.23681049e-05,\n",
       "        0.00000000e+00, 7.73006558e-06]),\n",
       " array([-78.53275299, -75.29862778, -72.06450256, -68.83037735,\n",
       "        -65.59625214, -62.36212692, -59.12800171, -55.8938765 ,\n",
       "        -52.65975128, -49.42562607, -46.19150085, -42.95737564,\n",
       "        -39.72325043, -36.48912521, -33.255     , -30.02087479,\n",
       "        -26.78674957, -23.55262436, -20.31849915, -17.08437393,\n",
       "        -13.85024872, -10.6161235 ,  -7.38199829,  -4.14787308,\n",
       "         -0.91374786,   2.32037735,   5.55450256,   8.78862778,\n",
       "         12.02275299,  15.2568782 ,  18.49100342,  21.72512863,\n",
       "         24.95925385,  28.19337906,  31.42750427,  34.66162949,\n",
       "         37.8957547 ,  41.12987991,  44.36400513,  47.59813034,\n",
       "         50.83225555,  54.06638077,  57.30050598,  60.5346312 ,\n",
       "         63.76875641,  67.00288162,  70.23700684,  73.47113205,\n",
       "         76.70525726,  79.93938248,  83.17350769]),\n",
       " <BarContainer object of 50 artists>)"
      ]
     },
     "execution_count": 45,
     "metadata": {},
     "output_type": "execute_result"
    },
    {
     "data": {
      "image/png": "[encoded data removed]",
      "text/plain": [
       "<Figure size 2000x500 with 2 Axes>"
      ]
     },
     "metadata": {},
     "output_type": "display_data"
    }
   ],
   "source": [
    "x = torch.randn(1000, 10)\n",
    "w = torch.randn(10,200) * 5\n",
    "y = x @ w\n",
    "\n",
    "print(x.mean(), x.std())\n",
    "print(y.mean(), y.std())\n",
    "\n",
    "plt.figure(figsize=(20,5))\n",
    "plt.subplot(121)\n",
    "plt.hist(x.view(-1).tolist(), 50, density=True)\n",
    "plt.subplot(122)\n",
    "plt.hist(y.view(-1).tolist(), 50, density=True)"
   ]
  },
  {
   "cell_type": "code",
   "execution_count": 46,
   "metadata": {},
   "outputs": [
    {
     "name": "stdout",
     "output_type": "stream",
     "text": [
      "tensor(-0.0013) tensor(0.9907)\n",
      "tensor(0.0036) tensor(0.6293)\n"
     ]
    },
    {
     "data": {
      "text/plain": [
       "(array([6.70197117e-05, 1.00529568e-04, 0.00000000e+00, 1.67549279e-04,\n",
       "        3.35098558e-04, 4.69137982e-04, 6.03177405e-04, 1.30688438e-03,\n",
       "        2.17814063e-03, 3.65257429e-03, 6.40038247e-03, 1.11922919e-02,\n",
       "        1.71905561e-02, 2.98907914e-02, 4.30936746e-02, 7.06052663e-02,\n",
       "        1.10683054e-01, 1.62321742e-01, 2.31921712e-01, 3.20153163e-01,\n",
       "        4.22291203e-01, 5.18833098e-01, 6.14838835e-01, 6.72375258e-01,\n",
       "        6.80317093e-01, 6.34241042e-01, 5.49561636e-01, 4.56069138e-01,\n",
       "        3.48804090e-01, 2.60271050e-01, 1.85946190e-01, 1.24924743e-01,\n",
       "        8.36741101e-02, 5.24429244e-02, 3.41800530e-02, 2.08096205e-02,\n",
       "        1.25997058e-02, 7.13759930e-03, 4.55734040e-03, 2.41270962e-03,\n",
       "        1.27337452e-03, 7.70726685e-04, 5.36157694e-04, 2.68078847e-04,\n",
       "        2.34568991e-04, 1.00529568e-04, 1.00529568e-04, 0.00000000e+00,\n",
       "        3.35098558e-05, 3.35098558e-05]),\n",
       " array([-3.6021831 , -3.45297327, -3.30376344, -3.1545536 , -3.00534377,\n",
       "        -2.85613394, -2.7069241 , -2.55771427, -2.40850444, -2.25929461,\n",
       "        -2.11008477, -1.96087494, -1.81166511, -1.66245527, -1.51324544,\n",
       "        -1.36403561, -1.21482577, -1.06561594, -0.91640611, -0.76719627,\n",
       "        -0.61798644, -0.46877661, -0.31956677, -0.17035694, -0.02114711,\n",
       "         0.12806273,  0.27727256,  0.42648239,  0.57569222,  0.72490206,\n",
       "         0.87411189,  1.02332172,  1.17253156,  1.32174139,  1.47095122,\n",
       "         1.62016106,  1.76937089,  1.91858072,  2.06779056,  2.21700039,\n",
       "         2.36621022,  2.51542006,  2.66462989,  2.81383972,  2.96304955,\n",
       "         3.11225939,  3.26146922,  3.41067905,  3.55988889,  3.70909872,\n",
       "         3.85830855]),\n",
       " <BarContainer object of 50 artists>)"
      ]
     },
     "execution_count": 46,
     "metadata": {},
     "output_type": "execute_result"
    },
    {
     "data": {
      "image/png": "[encoded data removed]",
      "text/plain": [
       "<Figure size 2000x500 with 2 Axes>"
      ]
     },
     "metadata": {},
     "output_type": "display_data"
    }
   ],
   "source": [
    "x = torch.randn(1000, 10)\n",
    "w = torch.randn(10,200) * 0.2\n",
    "y = x @ w\n",
    "\n",
    "print(x.mean(), x.std())\n",
    "print(y.mean(), y.std())\n",
    "\n",
    "plt.figure(figsize=(20,5))\n",
    "plt.subplot(121)\n",
    "plt.hist(x.view(-1).tolist(), 50, density=True)\n",
    "plt.subplot(122)\n",
    "plt.hist(y.view(-1).tolist(), 50, density=True)"
   ]
  },
  {
   "cell_type": "code",
   "execution_count": 47,
   "metadata": {},
   "outputs": [
    {
     "name": "stdout",
     "output_type": "stream",
     "text": [
      "tensor(0.0021) tensor(0.9982)\n",
      "tensor(-0.0022) tensor(1.0073)\n"
     ]
    },
    {
     "data": {
      "text/plain": [
       "(array([2.07244448e-05, 4.14488897e-05, 6.21733345e-05, 1.86520003e-04,\n",
       "        1.24346669e-04, 3.52315562e-04, 4.97386676e-04, 8.28977793e-04,\n",
       "        1.67868003e-03, 3.12939117e-03, 4.12416452e-03, 8.08253348e-03,\n",
       "        1.35537869e-02, 2.32528271e-02, 3.71796540e-02, 5.49612277e-02,\n",
       "        8.32708193e-02, 1.21797562e-01, 1.72593177e-01, 2.35533315e-01,\n",
       "        3.00711694e-01, 3.63092273e-01, 4.06282016e-01, 4.28540070e-01,\n",
       "        4.05079999e-01, 3.63859078e-01, 3.08379739e-01, 2.43408604e-01,\n",
       "        1.83328439e-01, 1.31268634e-01, 8.90114905e-02, 6.02874100e-02,\n",
       "        3.92935474e-02, 2.37087649e-02, 1.49216003e-02, 9.18092906e-03,\n",
       "        5.45052899e-03, 3.50243118e-03, 1.69940448e-03, 1.28491558e-03,\n",
       "        6.21733345e-04, 2.27968893e-04, 1.86520003e-04, 1.45071114e-04,\n",
       "        6.21733345e-05, 2.07244448e-05, 2.07244448e-05, 2.07244448e-05,\n",
       "        0.00000000e+00, 2.07244448e-05]),\n",
       " array([-5.69117069, -5.44990971, -5.20864872, -4.96738773, -4.72612675,\n",
       "        -4.48486576, -4.24360477, -4.00234379, -3.7610828 , -3.51982182,\n",
       "        -3.27856083, -3.03729984, -2.79603886, -2.55477787, -2.31351688,\n",
       "        -2.0722559 , -1.83099491, -1.58973392, -1.34847294, -1.10721195,\n",
       "        -0.86595097, -0.62468998, -0.38342899, -0.14216801,  0.09909298,\n",
       "         0.34035397,  0.58161495,  0.82287594,  1.06413692,  1.30539791,\n",
       "         1.5466589 ,  1.78791988,  2.02918087,  2.27044186,  2.51170284,\n",
       "         2.75296383,  2.99422482,  3.2354858 ,  3.47674679,  3.71800777,\n",
       "         3.95926876,  4.20052975,  4.44179073,  4.68305172,  4.92431271,\n",
       "         5.16557369,  5.40683468,  5.64809566,  5.88935665,  6.13061764,\n",
       "         6.37187862]),\n",
       " <BarContainer object of 50 artists>)"
      ]
     },
     "execution_count": 47,
     "metadata": {},
     "output_type": "execute_result"
    },
    {
     "data": {
      "image/png": "[encoded data removed]",
      "text/plain": [
       "<Figure size 2000x500 with 2 Axes>"
      ]
     },
     "metadata": {},
     "output_type": "display_data"
    }
   ],
   "source": [
    "# to correctly preserve the std  deviation to be 1\n",
    "# divide the weights by the square root of 10\n",
    "\n",
    "x = torch.randn(1000, 10)\n",
    "w = torch.randn(10,200) / 10 ** 0.5\n",
    "y = x @ w\n",
    "\n",
    "print(x.mean(), x.std())\n",
    "print(y.mean(), y.std())\n",
    "\n",
    "plt.figure(figsize=(20,5))\n",
    "plt.subplot(121)\n",
    "plt.hist(x.view(-1).tolist(), 50, density=True)\n",
    "plt.subplot(122)\n",
    "plt.hist(y.view(-1).tolist(), 50, density=True)"
   ]
  },
  {
   "cell_type": "markdown",
   "metadata": {},
   "source": [
    "These cases were widely discussed in papers like [Delving Deep into Rectifiers by Kaiming He](https://ieeexplore.ieee.org/document/7410480). They discuss especially about the ReLU and PReLU non linearity instead of tanh. \n",
    "\n",
    "About ReLU, since it squashes down all the negative values and just allows the positive values to just pass through, we need to make up for it by adding a  gain. They needed to initialise with a zero mean Gaussian distribution whose standard deviation is $\\sqrt{2/n_l}$ which is nothing but the dimension value's square root.\n",
    "\n",
    "Which is similar to the approach we took as in \n",
    "```python \n",
    "1/10**(-0.5)\n",
    "```\n",
    "but we have to add a factor of 2 here because ReLU literally throws away the half of the values and to make up for it we use this 2\n",
    "\n",
    "In addition to this, we also study the backward propogation case to keep a check on if the gradients are also well behaving.\n",
    "If one properly initialise the forward pass, the backward pass is also initialised to a costing factor that has to do with the size of the hidden neurons in the early and the late layer which is ${c_2 / d_L}$. But this doesn't matter a lot. "
   ]
  },
  {
   "cell_type": "markdown",
   "metadata": {},
   "source": []
  },
  {
   "cell_type": "markdown",
   "metadata": {},
   "source": []
  },
  {
   "cell_type": "code",
   "execution_count": null,
   "metadata": {},
   "outputs": [],
   "source": []
  }
 ],
 "metadata": {
  "kernelspec": {
   "display_name": "Python 3",
   "language": "python",
   "name": "python3"
  },
  "language_info": {
   "codemirror_mode": {
    "name": "ipython",
    "version": 3
   },
   "file_extension": ".py",
   "mimetype": "text/x-python",
   "name": "python",
   "nbconvert_exporter": "python",
   "pygments_lexer": "ipython3",
   "version": "3.10.13"
  }
 },
 "nbformat": 4,
 "nbformat_minor": 2
}
